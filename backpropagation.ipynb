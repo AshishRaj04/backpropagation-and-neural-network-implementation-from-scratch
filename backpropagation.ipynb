{
  "nbformat": 4,
  "nbformat_minor": 0,
  "metadata": {
    "colab": {
      "provenance": [],
      "authorship_tag": "ABX9TyNOnjdWLHKbfHbk+jR+E+Bs",
      "include_colab_link": true
    },
    "kernelspec": {
      "name": "python3",
      "display_name": "Python 3"
    },
    "language_info": {
      "name": "python"
    }
  },
  "cells": [
    {
      "cell_type": "markdown",
      "metadata": {
        "id": "view-in-github",
        "colab_type": "text"
      },
      "source": [
        "<a href=\"https://colab.research.google.com/github/AshishRaj04/backpropagation-and-neural-network-implementation-from-scratch/blob/main/backpropagation.ipynb\" target=\"_parent\"><img src=\"https://colab.research.google.com/assets/colab-badge.svg\" alt=\"Open In Colab\"/></a>"
      ]
    },
    {
      "cell_type": "markdown",
      "source": [
        "# Importing necessary libraries"
      ],
      "metadata": {
        "id": "8jPMO3jhFA99"
      }
    },
    {
      "cell_type": "code",
      "execution_count": null,
      "metadata": {
        "id": "QftJB2N1XGpx"
      },
      "outputs": [],
      "source": [
        "import math\n",
        "import numpy as np\n",
        "import matplotlib.pyplot as plt\n",
        "%matplotlib inline"
      ]
    },
    {
      "cell_type": "markdown",
      "source": [
        "# Building a Simple Autograd Engine\n",
        "\n",
        "This code defines a `Value` class to represent nodes in a computation graph. It implements basic arithmetic operations (`+`, `*`, `-`, `/`) and the `tanh` activation function. Each operation creates a new `Value` object and defines a `_backward` function to calculate gradients during backpropagation."
      ],
      "metadata": {
        "id": "b6p-jh3iRBq4"
      }
    },
    {
      "cell_type": "code",
      "source": [
        "class Value():\n",
        "  def __init__(self , data , _children=() , _op = \"\" , _label = \"\"):\n",
        "    self.data = data\n",
        "    self._backward = lambda: None\n",
        "    self._prev = set(_children) # stores the previous two operands\n",
        "    self.grad = 0 # Default the gradient is zero\n",
        "    self._op = _op # stores the last operator\n",
        "    self._label = _label\n",
        "  def __repr__(self):\n",
        "    return f\"Value(data={self.data})\"\n",
        "  def __add__(self,other): # if a and b are Value objects then python will evaluate a + b as  a.__add__(b) . a = self , b = other\n",
        "    other = other if isinstance(other , Value) else Value(other)\n",
        "    out = Value(self.data + other.data , (self , other) , \"+\")\n",
        "    def _backward():\n",
        "      self.grad += 1.0 * out.grad\n",
        "      other.grad += 1.0 * out.grad\n",
        "    out._backward = _backward\n",
        "    return out\n",
        "  def __mul__(self,other): # a.__mul__(b)\n",
        "    other = other if isinstance(other , Value) else Value(other)\n",
        "    out = Value(self.data * other.data , (self , other) , \"*\")\n",
        "    def _backward():\n",
        "      self.grad += other.data * out.grad\n",
        "      other.grad += self.data * out.grad\n",
        "    out._backward = _backward\n",
        "    return out\n",
        "  def __sub__(self , other):\n",
        "    other = other if isinstance(other , Value) else Value(other)\n",
        "    out = Value(self.data - other.data , (self , other) , \"-\")\n",
        "    def _backward():\n",
        "      self.grad += 1.0 * out.grad\n",
        "      other.grad += -1.0 * out.grad\n",
        "    out._backward = _backward\n",
        "    return out\n",
        "  def __truediv__(self , other):\n",
        "    other = other if isinstance(other , Value) else Value(other)\n",
        "    out = Value(self.data / other.data , (self , other) , \"/\")\n",
        "    def _backward():\n",
        "      self.grad += 1.0 / other.data * out.grad\n",
        "      other.grad += -self.data / other.data**2 * out.grad\n",
        "    out._backward = _backward\n",
        "    return out\n",
        "\n",
        "  def __rmul__(self, other):\n",
        "    return self * other\n",
        "\n",
        "  def tanh(self):\n",
        "       x = self.data\n",
        "       t = (np.exp(2*x)-1)/(np.exp(2*x)+1)\n",
        "       out = Value(t , (self ,) , 'tanh')\n",
        "       def _backward():\n",
        "         self.grad += (1-t**2) * out.grad\n",
        "       out._backward = _backward\n",
        "       return out\n",
        "\n",
        "  def exp(self):\n",
        "    x = self.data\n",
        "    out = Value(np.exp(x) , (self , ) , 'exp')\n",
        "    def _backward():\n",
        "      self.grad += out.data * out.grad\n",
        "    out._backward = _backward\n",
        "    return out\n",
        "\n",
        "  def pow(self,other):\n",
        "    assert isinstance(other , (int,float)) # If the condition (isinstance(other, (int, float))) is False, the program raises an AssertionError. This prevents the function from running with invalid input, ensuring other is always a valid exponent.\n",
        "    x = self.data\n",
        "    out = Value(x**other , (self , ) , f'**{other}')\n",
        "    def _backward():\n",
        "      self.grad += other * x**(other - 1) * out.grad\n",
        "    out._backward = _backward\n",
        "    return out\n",
        "\n",
        "  def backward(self):\n",
        "    stack = []\n",
        "    visited = set()\n",
        "\n",
        "    def dfs(node):\n",
        "      if node  in visited:\n",
        "        return\n",
        "      visited.add(node)\n",
        "      for child in node._prev:\n",
        "        dfs(child)\n",
        "      stack.append(node)\n",
        "\n",
        "    dfs(self)\n",
        "    self.grad = 1.0\n",
        "    for node in stack[::-1]:\n",
        "      node._backward()\n",
        "\n"
      ],
      "metadata": {
        "id": "oTGkPaBd22Ug"
      },
      "execution_count": null,
      "outputs": []
    },
    {
      "cell_type": "markdown",
      "source": [
        "# Creating a Computation Graph\n",
        "\n",
        "This cell demonstrates how to create a simple computation graph using the `Value` objects. It defines variables (`a`, `b`, `c`, `e`, `f`, `g`, `h`, `I`) and performs operations on them to build the graph. The output shows the final value of `I` and its previous nodes/operation."
      ],
      "metadata": {
        "id": "7c-n6ghPF2jH"
      }
    },
    {
      "cell_type": "code",
      "source": [
        "a = Value(2 , _label = 'a')\n",
        "b = Value(-3 , _label = 'b')\n",
        "c = Value(10 , _label = 'c')\n",
        "e = a*b ; e._label = 'e'\n",
        "f = e - c ; f._label = 'f'\n",
        "g = f + a ; g._label = 'g'\n",
        "h = Value(-2 , _label='h')\n",
        "I = g * h ; I._label = 'I'\n",
        "I"
      ],
      "metadata": {
        "colab": {
          "base_uri": "https://localhost:8080/"
        },
        "id": "Yu1KGL2ElY29",
        "outputId": "87d6cfae-7180-4e23-bc1c-c80f1d8ab108"
      },
      "execution_count": null,
      "outputs": [
        {
          "output_type": "execute_result",
          "data": {
            "text/plain": [
              "Value(data=28)"
            ]
          },
          "metadata": {},
          "execution_count": 3
        }
      ]
    },
    {
      "cell_type": "code",
      "source": [
        "I._prev , I._op"
      ],
      "metadata": {
        "colab": {
          "base_uri": "https://localhost:8080/"
        },
        "id": "ER4iaiBLnv3Q",
        "outputId": "f2e379cd-d362-47c2-ad9d-88008bda64a7"
      },
      "execution_count": null,
      "outputs": [
        {
          "output_type": "execute_result",
          "data": {
            "text/plain": [
              "({Value(data=-14), Value(data=-2)}, '*')"
            ]
          },
          "metadata": {},
          "execution_count": 4
        }
      ]
    },
    {
      "cell_type": "markdown",
      "source": [
        "# Manual gradient calculation.\n",
        "\n",
        " Manually calculating the gradient for each node in the computation graph."
      ],
      "metadata": {
        "id": "ABpTmKR5GF8q"
      }
    },
    {
      "cell_type": "code",
      "source": [
        "dI_dI = 1\n",
        "dI_dg = -2\n",
        "dI_dh = -14\n",
        "dI_df = -2\n",
        "dI_db = -4\n",
        "dI_dc = 2\n",
        "dI_de = -2\n",
        "dI_da = 4\n",
        "\n",
        "I.grad = 1\n",
        "g.grad = -2\n",
        "h.grad = -14\n",
        "f.grad = -2\n",
        "b.grad = -4\n",
        "c.grad = 2\n",
        "e.grad = -2\n",
        "a.grad = 4"
      ],
      "metadata": {
        "id": "U7pEeA0fo7W7"
      },
      "execution_count": null,
      "outputs": []
    },
    {
      "cell_type": "markdown",
      "source": [
        "# Visualizing the Computation Graph\n",
        "\n",
        "This cell uses the graphviz library to visualize the computation graph. It defines a draw_computation_graph function that takes the root node as input and generates a Graphviz representation of the graph. The output displays the graph, providing a clear view of the node connections and operations."
      ],
      "metadata": {
        "id": "rG6SuPlVIPi_"
      }
    },
    {
      "cell_type": "code",
      "source": [
        "from graphviz import Digraph\n",
        "from IPython.display import display\n",
        "\n",
        "def draw_computation_graph(root):\n",
        "    \"\"\"Generates a Graphviz computation graph and displays it.\"\"\"\n",
        "    dot = Digraph(format='png', graph_attr={'rankdir': 'TB'})  # Top to Bottom layout\n",
        "\n",
        "    def add_nodes_edges(node):\n",
        "        \"\"\"Recursive function to add nodes and edges.\"\"\"\n",
        "        if node not in visited:\n",
        "            visited.add(node)\n",
        "            node_id = str(id(node))\n",
        "\n",
        "            # Node label with operation if applicable\n",
        "            label = f\"data: {node.data:.2f} |\\n label: {node._label} | \\n grad: {node.grad:.4f}\"\n",
        "            if node._op:\n",
        "                label = f\"oper: {node._op} | \\n value: {node.data:.2f} | \\n label: {node._label} | \\n grad: {node.grad:.4f}\"\n",
        "            dot.node(node_id, label, shape=\"record\", style=\"filled\", fillcolor=\"lightblue\")\n",
        "\n",
        "            # Add edges for previous nodes\n",
        "            for child in node._prev:\n",
        "                child_id = str(id(child))\n",
        "                dot.edge(child_id, node_id)\n",
        "                add_nodes_edges(child)\n",
        "\n",
        "    visited = set()\n",
        "    add_nodes_edges(root)\n",
        "    return dot\n",
        "\n",
        "\n",
        "dot = draw_computation_graph(I)\n",
        "display(dot)"
      ],
      "metadata": {
        "colab": {
          "base_uri": "https://localhost:8080/",
          "height": 470
        },
        "id": "uk_s5SRJq0kp",
        "outputId": "f8a583e6-c41f-4a88-e109-610cd1c23a91"
      },
      "execution_count": null,
      "outputs": [
        {
          "output_type": "display_data",
          "data": {
            "image/svg+xml": "<?xml version=\"1.0\" encoding=\"UTF-8\" standalone=\"no\"?>\n<!DOCTYPE svg PUBLIC \"-//W3C//DTD SVG 1.1//EN\"\n \"http://www.w3.org/Graphics/SVG/1.1/DTD/svg11.dtd\">\n<!-- Generated by graphviz version 2.43.0 (0)\n -->\n<!-- Title: %3 Pages: 1 -->\n<svg width=\"664pt\" height=\"337pt\"\n viewBox=\"0.00 0.00 664.00 337.00\" xmlns=\"http://www.w3.org/2000/svg\" xmlns:xlink=\"http://www.w3.org/1999/xlink\">\n<g id=\"graph0\" class=\"graph\" transform=\"scale(1 1) rotate(0) translate(4 333)\">\n<title>%3</title>\n<polygon fill=\"white\" stroke=\"transparent\" points=\"-4,4 -4,-333 660,-333 660,4 -4,4\"/>\n<!-- 140473363235664 -->\n<g id=\"node1\" class=\"node\">\n<title>140473363235664</title>\n<polygon fill=\"lightblue\" stroke=\"black\" points=\"191.5,-0.5 191.5,-36.5 471.5,-36.5 471.5,-0.5 191.5,-0.5\"/>\n<text text-anchor=\"middle\" x=\"219\" y=\"-14.8\" font-family=\"Times,serif\" font-size=\"14.00\">oper: *</text>\n<polyline fill=\"none\" stroke=\"black\" points=\"246.5,-0.5 246.5,-36.5 \"/>\n<text text-anchor=\"middle\" x=\"288.5\" y=\"-14.8\" font-family=\"Times,serif\" font-size=\"14.00\">value: 28.00</text>\n<polyline fill=\"none\" stroke=\"black\" points=\"330.5,-0.5 330.5,-36.5 \"/>\n<text text-anchor=\"middle\" x=\"358\" y=\"-14.8\" font-family=\"Times,serif\" font-size=\"14.00\">label: I</text>\n<polyline fill=\"none\" stroke=\"black\" points=\"385.5,-0.5 385.5,-36.5 \"/>\n<text text-anchor=\"middle\" x=\"428.5\" y=\"-14.8\" font-family=\"Times,serif\" font-size=\"14.00\">grad: 1.0000</text>\n</g>\n<!-- 140473363236112 -->\n<g id=\"node2\" class=\"node\">\n<title>140473363236112</title>\n<polygon fill=\"lightblue\" stroke=\"black\" points=\"46.5,-73.5 46.5,-109.5 338.5,-109.5 338.5,-73.5 46.5,-73.5\"/>\n<text text-anchor=\"middle\" x=\"74.5\" y=\"-87.8\" font-family=\"Times,serif\" font-size=\"14.00\">oper: +</text>\n<polyline fill=\"none\" stroke=\"black\" points=\"102.5,-73.5 102.5,-109.5 \"/>\n<text text-anchor=\"middle\" x=\"147\" y=\"-87.8\" font-family=\"Times,serif\" font-size=\"14.00\">value: &#45;14.00</text>\n<polyline fill=\"none\" stroke=\"black\" points=\"191.5,-73.5 191.5,-109.5 \"/>\n<text text-anchor=\"middle\" x=\"220\" y=\"-87.8\" font-family=\"Times,serif\" font-size=\"14.00\">label: g</text>\n<polyline fill=\"none\" stroke=\"black\" points=\"248.5,-73.5 248.5,-109.5 \"/>\n<text text-anchor=\"middle\" x=\"293.5\" y=\"-87.8\" font-family=\"Times,serif\" font-size=\"14.00\">grad: &#45;2.0000</text>\n</g>\n<!-- 140473363236112&#45;&gt;140473363235664 -->\n<g id=\"edge1\" class=\"edge\">\n<title>140473363236112&#45;&gt;140473363235664</title>\n<path fill=\"none\" stroke=\"black\" d=\"M225.79,-73.49C244.74,-63.82 268.66,-51.6 288.96,-41.23\"/>\n<polygon fill=\"black\" stroke=\"black\" points=\"290.68,-44.28 298,-36.61 287.5,-38.05 290.68,-44.28\"/>\n</g>\n<!-- 140473363234960 -->\n<g id=\"node3\" class=\"node\">\n<title>140473363234960</title>\n<polygon fill=\"lightblue\" stroke=\"black\" points=\"0,-292.5 0,-328.5 213,-328.5 213,-292.5 0,-292.5\"/>\n<text text-anchor=\"middle\" x=\"35.5\" y=\"-306.8\" font-family=\"Times,serif\" font-size=\"14.00\">data: 2.00</text>\n<polyline fill=\"none\" stroke=\"black\" points=\"71,-292.5 71,-328.5 \"/>\n<text text-anchor=\"middle\" x=\"99\" y=\"-306.8\" font-family=\"Times,serif\" font-size=\"14.00\">label: a</text>\n<polyline fill=\"none\" stroke=\"black\" points=\"127,-292.5 127,-328.5 \"/>\n<text text-anchor=\"middle\" x=\"170\" y=\"-306.8\" font-family=\"Times,serif\" font-size=\"14.00\">grad: 4.0000</text>\n</g>\n<!-- 140473363234960&#45;&gt;140473363236112 -->\n<g id=\"edge2\" class=\"edge\">\n<title>140473363234960&#45;&gt;140473363236112</title>\n<path fill=\"none\" stroke=\"black\" d=\"M104.43,-292.46C101.48,-261.25 99.03,-193.73 125.5,-146 132.12,-134.07 142.58,-123.83 153.29,-115.59\"/>\n<polygon fill=\"black\" stroke=\"black\" points=\"155.41,-118.38 161.47,-109.69 151.31,-112.7 155.41,-118.38\"/>\n</g>\n<!-- 140473363235344 -->\n<g id=\"node5\" class=\"node\">\n<title>140473363235344</title>\n<polygon fill=\"lightblue\" stroke=\"black\" points=\"136,-219.5 136,-255.5 419,-255.5 419,-219.5 136,-219.5\"/>\n<text text-anchor=\"middle\" x=\"163.5\" y=\"-233.8\" font-family=\"Times,serif\" font-size=\"14.00\">oper: *</text>\n<polyline fill=\"none\" stroke=\"black\" points=\"191,-219.5 191,-255.5 \"/>\n<text text-anchor=\"middle\" x=\"232\" y=\"-233.8\" font-family=\"Times,serif\" font-size=\"14.00\">value: &#45;6.00</text>\n<polyline fill=\"none\" stroke=\"black\" points=\"273,-219.5 273,-255.5 \"/>\n<text text-anchor=\"middle\" x=\"301\" y=\"-233.8\" font-family=\"Times,serif\" font-size=\"14.00\">label: e</text>\n<polyline fill=\"none\" stroke=\"black\" points=\"329,-219.5 329,-255.5 \"/>\n<text text-anchor=\"middle\" x=\"374\" y=\"-233.8\" font-family=\"Times,serif\" font-size=\"14.00\">grad: &#45;2.0000</text>\n</g>\n<!-- 140473363234960&#45;&gt;140473363235344 -->\n<g id=\"edge5\" class=\"edge\">\n<title>140473363234960&#45;&gt;140473363235344</title>\n<path fill=\"none\" stroke=\"black\" d=\"M147.46,-292.49C171.29,-282.6 201.53,-270.04 226.84,-259.53\"/>\n<polygon fill=\"black\" stroke=\"black\" points=\"228.39,-262.68 236.28,-255.61 225.71,-256.22 228.39,-262.68\"/>\n</g>\n<!-- 140473363236304 -->\n<g id=\"node4\" class=\"node\">\n<title>140473363236304</title>\n<polygon fill=\"lightblue\" stroke=\"black\" points=\"135,-146.5 135,-182.5 422,-182.5 422,-146.5 135,-146.5\"/>\n<text text-anchor=\"middle\" x=\"161.5\" y=\"-160.8\" font-family=\"Times,serif\" font-size=\"14.00\">oper: &#45;</text>\n<polyline fill=\"none\" stroke=\"black\" points=\"188,-146.5 188,-182.5 \"/>\n<text text-anchor=\"middle\" x=\"232.5\" y=\"-160.8\" font-family=\"Times,serif\" font-size=\"14.00\">value: &#45;16.00</text>\n<polyline fill=\"none\" stroke=\"black\" points=\"277,-146.5 277,-182.5 \"/>\n<text text-anchor=\"middle\" x=\"304.5\" y=\"-160.8\" font-family=\"Times,serif\" font-size=\"14.00\">label: f</text>\n<polyline fill=\"none\" stroke=\"black\" points=\"332,-146.5 332,-182.5 \"/>\n<text text-anchor=\"middle\" x=\"377\" y=\"-160.8\" font-family=\"Times,serif\" font-size=\"14.00\">grad: &#45;2.0000</text>\n</g>\n<!-- 140473363236304&#45;&gt;140473363236112 -->\n<g id=\"edge3\" class=\"edge\">\n<title>140473363236304&#45;&gt;140473363236112</title>\n<path fill=\"none\" stroke=\"black\" d=\"M257.68,-146.31C246.7,-137.24 233.05,-125.98 221.09,-116.1\"/>\n<polygon fill=\"black\" stroke=\"black\" points=\"223.07,-113.2 213.13,-109.53 218.61,-118.59 223.07,-113.2\"/>\n</g>\n<!-- 140473363235344&#45;&gt;140473363236304 -->\n<g id=\"edge4\" class=\"edge\">\n<title>140473363235344&#45;&gt;140473363236304</title>\n<path fill=\"none\" stroke=\"black\" d=\"M277.74,-219.31C277.86,-211.29 277.99,-201.55 278.12,-192.57\"/>\n<polygon fill=\"black\" stroke=\"black\" points=\"281.62,-192.58 278.26,-182.53 274.62,-192.48 281.62,-192.58\"/>\n</g>\n<!-- 140473363235920 -->\n<g id=\"node6\" class=\"node\">\n<title>140473363235920</title>\n<polygon fill=\"lightblue\" stroke=\"black\" points=\"230.5,-292.5 230.5,-328.5 452.5,-328.5 452.5,-292.5 230.5,-292.5\"/>\n<text text-anchor=\"middle\" x=\"268\" y=\"-306.8\" font-family=\"Times,serif\" font-size=\"14.00\">data: &#45;3.00</text>\n<polyline fill=\"none\" stroke=\"black\" points=\"305.5,-292.5 305.5,-328.5 \"/>\n<text text-anchor=\"middle\" x=\"334\" y=\"-306.8\" font-family=\"Times,serif\" font-size=\"14.00\">label: b</text>\n<polyline fill=\"none\" stroke=\"black\" points=\"362.5,-292.5 362.5,-328.5 \"/>\n<text text-anchor=\"middle\" x=\"407.5\" y=\"-306.8\" font-family=\"Times,serif\" font-size=\"14.00\">grad: &#45;4.0000</text>\n</g>\n<!-- 140473363235920&#45;&gt;140473363235344 -->\n<g id=\"edge6\" class=\"edge\">\n<title>140473363235920&#45;&gt;140473363235344</title>\n<path fill=\"none\" stroke=\"black\" d=\"M326.01,-292.31C318.07,-283.5 308.26,-272.63 299.55,-262.96\"/>\n<polygon fill=\"black\" stroke=\"black\" points=\"302.15,-260.61 292.85,-255.53 296.95,-265.3 302.15,-260.61\"/>\n</g>\n<!-- 140473363235152 -->\n<g id=\"node7\" class=\"node\">\n<title>140473363235152</title>\n<polygon fill=\"lightblue\" stroke=\"black\" points=\"437,-219.5 437,-255.5 656,-255.5 656,-219.5 437,-219.5\"/>\n<text text-anchor=\"middle\" x=\"475.5\" y=\"-233.8\" font-family=\"Times,serif\" font-size=\"14.00\">data: 10.00</text>\n<polyline fill=\"none\" stroke=\"black\" points=\"514,-219.5 514,-255.5 \"/>\n<text text-anchor=\"middle\" x=\"542\" y=\"-233.8\" font-family=\"Times,serif\" font-size=\"14.00\">label: c</text>\n<polyline fill=\"none\" stroke=\"black\" points=\"570,-219.5 570,-255.5 \"/>\n<text text-anchor=\"middle\" x=\"613\" y=\"-233.8\" font-family=\"Times,serif\" font-size=\"14.00\">grad: 2.0000</text>\n</g>\n<!-- 140473363235152&#45;&gt;140473363236304 -->\n<g id=\"edge7\" class=\"edge\">\n<title>140473363235152&#45;&gt;140473363236304</title>\n<path fill=\"none\" stroke=\"black\" d=\"M482.31,-219.49C443.4,-209.18 393.59,-195.99 352.95,-185.22\"/>\n<polygon fill=\"black\" stroke=\"black\" points=\"353.66,-181.79 343.1,-182.61 351.87,-188.56 353.66,-181.79\"/>\n</g>\n<!-- 140473363235408 -->\n<g id=\"node8\" class=\"node\">\n<title>140473363235408</title>\n<polygon fill=\"lightblue\" stroke=\"black\" points=\"357,-73.5 357,-109.5 586,-109.5 586,-73.5 357,-73.5\"/>\n<text text-anchor=\"middle\" x=\"394.5\" y=\"-87.8\" font-family=\"Times,serif\" font-size=\"14.00\">data: &#45;2.00</text>\n<polyline fill=\"none\" stroke=\"black\" points=\"432,-73.5 432,-109.5 \"/>\n<text text-anchor=\"middle\" x=\"460.5\" y=\"-87.8\" font-family=\"Times,serif\" font-size=\"14.00\">label: h</text>\n<polyline fill=\"none\" stroke=\"black\" points=\"489,-73.5 489,-109.5 \"/>\n<text text-anchor=\"middle\" x=\"537.5\" y=\"-87.8\" font-family=\"Times,serif\" font-size=\"14.00\">grad: &#45;14.0000</text>\n</g>\n<!-- 140473363235408&#45;&gt;140473363235664 -->\n<g id=\"edge8\" class=\"edge\">\n<title>140473363235408&#45;&gt;140473363235664</title>\n<path fill=\"none\" stroke=\"black\" d=\"M437.97,-73.49C418.89,-63.82 394.79,-51.6 374.35,-41.23\"/>\n<polygon fill=\"black\" stroke=\"black\" points=\"375.75,-38.02 365.25,-36.61 372.58,-44.26 375.75,-38.02\"/>\n</g>\n</g>\n</svg>\n",
            "text/plain": [
              "<graphviz.graphs.Digraph at 0x7fc280ede410>"
            ]
          },
          "metadata": {}
        }
      ]
    },
    {
      "cell_type": "code",
      "source": [
        "I.grad = 1\n",
        "g.grad = 0\n",
        "h.grad = 0\n",
        "f.grad = 0\n",
        "b.grad = 0\n",
        "c.grad =0\n",
        "e.grad = 0\n",
        "a.grad =0"
      ],
      "metadata": {
        "id": "cffNT7i56xFR"
      },
      "execution_count": null,
      "outputs": []
    },
    {
      "cell_type": "code",
      "source": [
        "I._backward()\n",
        "g._backward()\n",
        "h._backward()\n",
        "f._backward()\n",
        "b._backward()\n",
        "c._backward()\n",
        "e._backward()\n",
        "a._backward()"
      ],
      "metadata": {
        "id": "eNb-z0pM1-Jl"
      },
      "execution_count": null,
      "outputs": []
    },
    {
      "cell_type": "code",
      "source": [
        "dot = draw_computation_graph(I)\n",
        "display(dot)"
      ],
      "metadata": {
        "colab": {
          "base_uri": "https://localhost:8080/",
          "height": 470
        },
        "id": "0FZEufeR2H86",
        "outputId": "f2e89ce3-008f-48b7-cac1-0953d8914288"
      },
      "execution_count": null,
      "outputs": [
        {
          "output_type": "display_data",
          "data": {
            "image/svg+xml": "<?xml version=\"1.0\" encoding=\"UTF-8\" standalone=\"no\"?>\n<!DOCTYPE svg PUBLIC \"-//W3C//DTD SVG 1.1//EN\"\n \"http://www.w3.org/Graphics/SVG/1.1/DTD/svg11.dtd\">\n<!-- Generated by graphviz version 2.43.0 (0)\n -->\n<!-- Title: %3 Pages: 1 -->\n<svg width=\"664pt\" height=\"337pt\"\n viewBox=\"0.00 0.00 664.00 337.00\" xmlns=\"http://www.w3.org/2000/svg\" xmlns:xlink=\"http://www.w3.org/1999/xlink\">\n<g id=\"graph0\" class=\"graph\" transform=\"scale(1 1) rotate(0) translate(4 333)\">\n<title>%3</title>\n<polygon fill=\"white\" stroke=\"transparent\" points=\"-4,4 -4,-333 660,-333 660,4 -4,4\"/>\n<!-- 140473363235664 -->\n<g id=\"node1\" class=\"node\">\n<title>140473363235664</title>\n<polygon fill=\"lightblue\" stroke=\"black\" points=\"191.5,-0.5 191.5,-36.5 471.5,-36.5 471.5,-0.5 191.5,-0.5\"/>\n<text text-anchor=\"middle\" x=\"219\" y=\"-14.8\" font-family=\"Times,serif\" font-size=\"14.00\">oper: *</text>\n<polyline fill=\"none\" stroke=\"black\" points=\"246.5,-0.5 246.5,-36.5 \"/>\n<text text-anchor=\"middle\" x=\"288.5\" y=\"-14.8\" font-family=\"Times,serif\" font-size=\"14.00\">value: 28.00</text>\n<polyline fill=\"none\" stroke=\"black\" points=\"330.5,-0.5 330.5,-36.5 \"/>\n<text text-anchor=\"middle\" x=\"358\" y=\"-14.8\" font-family=\"Times,serif\" font-size=\"14.00\">label: I</text>\n<polyline fill=\"none\" stroke=\"black\" points=\"385.5,-0.5 385.5,-36.5 \"/>\n<text text-anchor=\"middle\" x=\"428.5\" y=\"-14.8\" font-family=\"Times,serif\" font-size=\"14.00\">grad: 1.0000</text>\n</g>\n<!-- 140473363236112 -->\n<g id=\"node2\" class=\"node\">\n<title>140473363236112</title>\n<polygon fill=\"lightblue\" stroke=\"black\" points=\"46.5,-73.5 46.5,-109.5 338.5,-109.5 338.5,-73.5 46.5,-73.5\"/>\n<text text-anchor=\"middle\" x=\"74.5\" y=\"-87.8\" font-family=\"Times,serif\" font-size=\"14.00\">oper: +</text>\n<polyline fill=\"none\" stroke=\"black\" points=\"102.5,-73.5 102.5,-109.5 \"/>\n<text text-anchor=\"middle\" x=\"147\" y=\"-87.8\" font-family=\"Times,serif\" font-size=\"14.00\">value: &#45;14.00</text>\n<polyline fill=\"none\" stroke=\"black\" points=\"191.5,-73.5 191.5,-109.5 \"/>\n<text text-anchor=\"middle\" x=\"220\" y=\"-87.8\" font-family=\"Times,serif\" font-size=\"14.00\">label: g</text>\n<polyline fill=\"none\" stroke=\"black\" points=\"248.5,-73.5 248.5,-109.5 \"/>\n<text text-anchor=\"middle\" x=\"293.5\" y=\"-87.8\" font-family=\"Times,serif\" font-size=\"14.00\">grad: &#45;2.0000</text>\n</g>\n<!-- 140473363236112&#45;&gt;140473363235664 -->\n<g id=\"edge1\" class=\"edge\">\n<title>140473363236112&#45;&gt;140473363235664</title>\n<path fill=\"none\" stroke=\"black\" d=\"M225.79,-73.49C244.74,-63.82 268.66,-51.6 288.96,-41.23\"/>\n<polygon fill=\"black\" stroke=\"black\" points=\"290.68,-44.28 298,-36.61 287.5,-38.05 290.68,-44.28\"/>\n</g>\n<!-- 140473363234960 -->\n<g id=\"node3\" class=\"node\">\n<title>140473363234960</title>\n<polygon fill=\"lightblue\" stroke=\"black\" points=\"0,-292.5 0,-328.5 213,-328.5 213,-292.5 0,-292.5\"/>\n<text text-anchor=\"middle\" x=\"35.5\" y=\"-306.8\" font-family=\"Times,serif\" font-size=\"14.00\">data: 2.00</text>\n<polyline fill=\"none\" stroke=\"black\" points=\"71,-292.5 71,-328.5 \"/>\n<text text-anchor=\"middle\" x=\"99\" y=\"-306.8\" font-family=\"Times,serif\" font-size=\"14.00\">label: a</text>\n<polyline fill=\"none\" stroke=\"black\" points=\"127,-292.5 127,-328.5 \"/>\n<text text-anchor=\"middle\" x=\"170\" y=\"-306.8\" font-family=\"Times,serif\" font-size=\"14.00\">grad: 4.0000</text>\n</g>\n<!-- 140473363234960&#45;&gt;140473363236112 -->\n<g id=\"edge2\" class=\"edge\">\n<title>140473363234960&#45;&gt;140473363236112</title>\n<path fill=\"none\" stroke=\"black\" d=\"M104.43,-292.46C101.48,-261.25 99.03,-193.73 125.5,-146 132.12,-134.07 142.58,-123.83 153.29,-115.59\"/>\n<polygon fill=\"black\" stroke=\"black\" points=\"155.41,-118.38 161.47,-109.69 151.31,-112.7 155.41,-118.38\"/>\n</g>\n<!-- 140473363235344 -->\n<g id=\"node5\" class=\"node\">\n<title>140473363235344</title>\n<polygon fill=\"lightblue\" stroke=\"black\" points=\"136,-219.5 136,-255.5 419,-255.5 419,-219.5 136,-219.5\"/>\n<text text-anchor=\"middle\" x=\"163.5\" y=\"-233.8\" font-family=\"Times,serif\" font-size=\"14.00\">oper: *</text>\n<polyline fill=\"none\" stroke=\"black\" points=\"191,-219.5 191,-255.5 \"/>\n<text text-anchor=\"middle\" x=\"232\" y=\"-233.8\" font-family=\"Times,serif\" font-size=\"14.00\">value: &#45;6.00</text>\n<polyline fill=\"none\" stroke=\"black\" points=\"273,-219.5 273,-255.5 \"/>\n<text text-anchor=\"middle\" x=\"301\" y=\"-233.8\" font-family=\"Times,serif\" font-size=\"14.00\">label: e</text>\n<polyline fill=\"none\" stroke=\"black\" points=\"329,-219.5 329,-255.5 \"/>\n<text text-anchor=\"middle\" x=\"374\" y=\"-233.8\" font-family=\"Times,serif\" font-size=\"14.00\">grad: &#45;2.0000</text>\n</g>\n<!-- 140473363234960&#45;&gt;140473363235344 -->\n<g id=\"edge5\" class=\"edge\">\n<title>140473363234960&#45;&gt;140473363235344</title>\n<path fill=\"none\" stroke=\"black\" d=\"M147.46,-292.49C171.29,-282.6 201.53,-270.04 226.84,-259.53\"/>\n<polygon fill=\"black\" stroke=\"black\" points=\"228.39,-262.68 236.28,-255.61 225.71,-256.22 228.39,-262.68\"/>\n</g>\n<!-- 140473363236304 -->\n<g id=\"node4\" class=\"node\">\n<title>140473363236304</title>\n<polygon fill=\"lightblue\" stroke=\"black\" points=\"135,-146.5 135,-182.5 422,-182.5 422,-146.5 135,-146.5\"/>\n<text text-anchor=\"middle\" x=\"161.5\" y=\"-160.8\" font-family=\"Times,serif\" font-size=\"14.00\">oper: &#45;</text>\n<polyline fill=\"none\" stroke=\"black\" points=\"188,-146.5 188,-182.5 \"/>\n<text text-anchor=\"middle\" x=\"232.5\" y=\"-160.8\" font-family=\"Times,serif\" font-size=\"14.00\">value: &#45;16.00</text>\n<polyline fill=\"none\" stroke=\"black\" points=\"277,-146.5 277,-182.5 \"/>\n<text text-anchor=\"middle\" x=\"304.5\" y=\"-160.8\" font-family=\"Times,serif\" font-size=\"14.00\">label: f</text>\n<polyline fill=\"none\" stroke=\"black\" points=\"332,-146.5 332,-182.5 \"/>\n<text text-anchor=\"middle\" x=\"377\" y=\"-160.8\" font-family=\"Times,serif\" font-size=\"14.00\">grad: &#45;2.0000</text>\n</g>\n<!-- 140473363236304&#45;&gt;140473363236112 -->\n<g id=\"edge3\" class=\"edge\">\n<title>140473363236304&#45;&gt;140473363236112</title>\n<path fill=\"none\" stroke=\"black\" d=\"M257.68,-146.31C246.7,-137.24 233.05,-125.98 221.09,-116.1\"/>\n<polygon fill=\"black\" stroke=\"black\" points=\"223.07,-113.2 213.13,-109.53 218.61,-118.59 223.07,-113.2\"/>\n</g>\n<!-- 140473363235344&#45;&gt;140473363236304 -->\n<g id=\"edge4\" class=\"edge\">\n<title>140473363235344&#45;&gt;140473363236304</title>\n<path fill=\"none\" stroke=\"black\" d=\"M277.74,-219.31C277.86,-211.29 277.99,-201.55 278.12,-192.57\"/>\n<polygon fill=\"black\" stroke=\"black\" points=\"281.62,-192.58 278.26,-182.53 274.62,-192.48 281.62,-192.58\"/>\n</g>\n<!-- 140473363235920 -->\n<g id=\"node6\" class=\"node\">\n<title>140473363235920</title>\n<polygon fill=\"lightblue\" stroke=\"black\" points=\"230.5,-292.5 230.5,-328.5 452.5,-328.5 452.5,-292.5 230.5,-292.5\"/>\n<text text-anchor=\"middle\" x=\"268\" y=\"-306.8\" font-family=\"Times,serif\" font-size=\"14.00\">data: &#45;3.00</text>\n<polyline fill=\"none\" stroke=\"black\" points=\"305.5,-292.5 305.5,-328.5 \"/>\n<text text-anchor=\"middle\" x=\"334\" y=\"-306.8\" font-family=\"Times,serif\" font-size=\"14.00\">label: b</text>\n<polyline fill=\"none\" stroke=\"black\" points=\"362.5,-292.5 362.5,-328.5 \"/>\n<text text-anchor=\"middle\" x=\"407.5\" y=\"-306.8\" font-family=\"Times,serif\" font-size=\"14.00\">grad: &#45;4.0000</text>\n</g>\n<!-- 140473363235920&#45;&gt;140473363235344 -->\n<g id=\"edge6\" class=\"edge\">\n<title>140473363235920&#45;&gt;140473363235344</title>\n<path fill=\"none\" stroke=\"black\" d=\"M326.01,-292.31C318.07,-283.5 308.26,-272.63 299.55,-262.96\"/>\n<polygon fill=\"black\" stroke=\"black\" points=\"302.15,-260.61 292.85,-255.53 296.95,-265.3 302.15,-260.61\"/>\n</g>\n<!-- 140473363235152 -->\n<g id=\"node7\" class=\"node\">\n<title>140473363235152</title>\n<polygon fill=\"lightblue\" stroke=\"black\" points=\"437,-219.5 437,-255.5 656,-255.5 656,-219.5 437,-219.5\"/>\n<text text-anchor=\"middle\" x=\"475.5\" y=\"-233.8\" font-family=\"Times,serif\" font-size=\"14.00\">data: 10.00</text>\n<polyline fill=\"none\" stroke=\"black\" points=\"514,-219.5 514,-255.5 \"/>\n<text text-anchor=\"middle\" x=\"542\" y=\"-233.8\" font-family=\"Times,serif\" font-size=\"14.00\">label: c</text>\n<polyline fill=\"none\" stroke=\"black\" points=\"570,-219.5 570,-255.5 \"/>\n<text text-anchor=\"middle\" x=\"613\" y=\"-233.8\" font-family=\"Times,serif\" font-size=\"14.00\">grad: 2.0000</text>\n</g>\n<!-- 140473363235152&#45;&gt;140473363236304 -->\n<g id=\"edge7\" class=\"edge\">\n<title>140473363235152&#45;&gt;140473363236304</title>\n<path fill=\"none\" stroke=\"black\" d=\"M482.31,-219.49C443.4,-209.18 393.59,-195.99 352.95,-185.22\"/>\n<polygon fill=\"black\" stroke=\"black\" points=\"353.66,-181.79 343.1,-182.61 351.87,-188.56 353.66,-181.79\"/>\n</g>\n<!-- 140473363235408 -->\n<g id=\"node8\" class=\"node\">\n<title>140473363235408</title>\n<polygon fill=\"lightblue\" stroke=\"black\" points=\"357,-73.5 357,-109.5 586,-109.5 586,-73.5 357,-73.5\"/>\n<text text-anchor=\"middle\" x=\"394.5\" y=\"-87.8\" font-family=\"Times,serif\" font-size=\"14.00\">data: &#45;2.00</text>\n<polyline fill=\"none\" stroke=\"black\" points=\"432,-73.5 432,-109.5 \"/>\n<text text-anchor=\"middle\" x=\"460.5\" y=\"-87.8\" font-family=\"Times,serif\" font-size=\"14.00\">label: h</text>\n<polyline fill=\"none\" stroke=\"black\" points=\"489,-73.5 489,-109.5 \"/>\n<text text-anchor=\"middle\" x=\"537.5\" y=\"-87.8\" font-family=\"Times,serif\" font-size=\"14.00\">grad: &#45;14.0000</text>\n</g>\n<!-- 140473363235408&#45;&gt;140473363235664 -->\n<g id=\"edge8\" class=\"edge\">\n<title>140473363235408&#45;&gt;140473363235664</title>\n<path fill=\"none\" stroke=\"black\" d=\"M437.97,-73.49C418.89,-63.82 394.79,-51.6 374.35,-41.23\"/>\n<polygon fill=\"black\" stroke=\"black\" points=\"375.75,-38.02 365.25,-36.61 372.58,-44.26 375.75,-38.02\"/>\n</g>\n</g>\n</svg>\n",
            "text/plain": [
              "<graphviz.graphs.Digraph at 0x7fc28052ba50>"
            ]
          },
          "metadata": {}
        }
      ]
    },
    {
      "cell_type": "code",
      "source": [
        "I.grad = 1\n",
        "g.grad = 0\n",
        "h.grad = 0\n",
        "f.grad = 0\n",
        "b.grad = 0\n",
        "c.grad =0\n",
        "e.grad = 0\n",
        "a.grad =0"
      ],
      "metadata": {
        "id": "4i472JLE68FV"
      },
      "execution_count": null,
      "outputs": []
    },
    {
      "cell_type": "code",
      "source": [
        "I.backward()"
      ],
      "metadata": {
        "id": "5zsLGdCe1j9f"
      },
      "execution_count": null,
      "outputs": []
    },
    {
      "cell_type": "code",
      "source": [
        "dot = draw_computation_graph(I)\n",
        "display(dot)"
      ],
      "metadata": {
        "colab": {
          "base_uri": "https://localhost:8080/",
          "height": 470
        },
        "id": "2pEtEHbY1qhb",
        "outputId": "9b801bb8-1a0a-4b3f-e122-cf9d475b72a7"
      },
      "execution_count": null,
      "outputs": [
        {
          "output_type": "display_data",
          "data": {
            "image/svg+xml": "<?xml version=\"1.0\" encoding=\"UTF-8\" standalone=\"no\"?>\n<!DOCTYPE svg PUBLIC \"-//W3C//DTD SVG 1.1//EN\"\n \"http://www.w3.org/Graphics/SVG/1.1/DTD/svg11.dtd\">\n<!-- Generated by graphviz version 2.43.0 (0)\n -->\n<!-- Title: %3 Pages: 1 -->\n<svg width=\"664pt\" height=\"337pt\"\n viewBox=\"0.00 0.00 664.00 337.00\" xmlns=\"http://www.w3.org/2000/svg\" xmlns:xlink=\"http://www.w3.org/1999/xlink\">\n<g id=\"graph0\" class=\"graph\" transform=\"scale(1 1) rotate(0) translate(4 333)\">\n<title>%3</title>\n<polygon fill=\"white\" stroke=\"transparent\" points=\"-4,4 -4,-333 660,-333 660,4 -4,4\"/>\n<!-- 140473363235664 -->\n<g id=\"node1\" class=\"node\">\n<title>140473363235664</title>\n<polygon fill=\"lightblue\" stroke=\"black\" points=\"191.5,-0.5 191.5,-36.5 471.5,-36.5 471.5,-0.5 191.5,-0.5\"/>\n<text text-anchor=\"middle\" x=\"219\" y=\"-14.8\" font-family=\"Times,serif\" font-size=\"14.00\">oper: *</text>\n<polyline fill=\"none\" stroke=\"black\" points=\"246.5,-0.5 246.5,-36.5 \"/>\n<text text-anchor=\"middle\" x=\"288.5\" y=\"-14.8\" font-family=\"Times,serif\" font-size=\"14.00\">value: 28.00</text>\n<polyline fill=\"none\" stroke=\"black\" points=\"330.5,-0.5 330.5,-36.5 \"/>\n<text text-anchor=\"middle\" x=\"358\" y=\"-14.8\" font-family=\"Times,serif\" font-size=\"14.00\">label: I</text>\n<polyline fill=\"none\" stroke=\"black\" points=\"385.5,-0.5 385.5,-36.5 \"/>\n<text text-anchor=\"middle\" x=\"428.5\" y=\"-14.8\" font-family=\"Times,serif\" font-size=\"14.00\">grad: 1.0000</text>\n</g>\n<!-- 140473363236112 -->\n<g id=\"node2\" class=\"node\">\n<title>140473363236112</title>\n<polygon fill=\"lightblue\" stroke=\"black\" points=\"46.5,-73.5 46.5,-109.5 338.5,-109.5 338.5,-73.5 46.5,-73.5\"/>\n<text text-anchor=\"middle\" x=\"74.5\" y=\"-87.8\" font-family=\"Times,serif\" font-size=\"14.00\">oper: +</text>\n<polyline fill=\"none\" stroke=\"black\" points=\"102.5,-73.5 102.5,-109.5 \"/>\n<text text-anchor=\"middle\" x=\"147\" y=\"-87.8\" font-family=\"Times,serif\" font-size=\"14.00\">value: &#45;14.00</text>\n<polyline fill=\"none\" stroke=\"black\" points=\"191.5,-73.5 191.5,-109.5 \"/>\n<text text-anchor=\"middle\" x=\"220\" y=\"-87.8\" font-family=\"Times,serif\" font-size=\"14.00\">label: g</text>\n<polyline fill=\"none\" stroke=\"black\" points=\"248.5,-73.5 248.5,-109.5 \"/>\n<text text-anchor=\"middle\" x=\"293.5\" y=\"-87.8\" font-family=\"Times,serif\" font-size=\"14.00\">grad: &#45;2.0000</text>\n</g>\n<!-- 140473363236112&#45;&gt;140473363235664 -->\n<g id=\"edge1\" class=\"edge\">\n<title>140473363236112&#45;&gt;140473363235664</title>\n<path fill=\"none\" stroke=\"black\" d=\"M225.79,-73.49C244.74,-63.82 268.66,-51.6 288.96,-41.23\"/>\n<polygon fill=\"black\" stroke=\"black\" points=\"290.68,-44.28 298,-36.61 287.5,-38.05 290.68,-44.28\"/>\n</g>\n<!-- 140473363234960 -->\n<g id=\"node3\" class=\"node\">\n<title>140473363234960</title>\n<polygon fill=\"lightblue\" stroke=\"black\" points=\"0,-292.5 0,-328.5 213,-328.5 213,-292.5 0,-292.5\"/>\n<text text-anchor=\"middle\" x=\"35.5\" y=\"-306.8\" font-family=\"Times,serif\" font-size=\"14.00\">data: 2.00</text>\n<polyline fill=\"none\" stroke=\"black\" points=\"71,-292.5 71,-328.5 \"/>\n<text text-anchor=\"middle\" x=\"99\" y=\"-306.8\" font-family=\"Times,serif\" font-size=\"14.00\">label: a</text>\n<polyline fill=\"none\" stroke=\"black\" points=\"127,-292.5 127,-328.5 \"/>\n<text text-anchor=\"middle\" x=\"170\" y=\"-306.8\" font-family=\"Times,serif\" font-size=\"14.00\">grad: 4.0000</text>\n</g>\n<!-- 140473363234960&#45;&gt;140473363236112 -->\n<g id=\"edge2\" class=\"edge\">\n<title>140473363234960&#45;&gt;140473363236112</title>\n<path fill=\"none\" stroke=\"black\" d=\"M104.43,-292.46C101.48,-261.25 99.03,-193.73 125.5,-146 132.12,-134.07 142.58,-123.83 153.29,-115.59\"/>\n<polygon fill=\"black\" stroke=\"black\" points=\"155.41,-118.38 161.47,-109.69 151.31,-112.7 155.41,-118.38\"/>\n</g>\n<!-- 140473363235344 -->\n<g id=\"node5\" class=\"node\">\n<title>140473363235344</title>\n<polygon fill=\"lightblue\" stroke=\"black\" points=\"136,-219.5 136,-255.5 419,-255.5 419,-219.5 136,-219.5\"/>\n<text text-anchor=\"middle\" x=\"163.5\" y=\"-233.8\" font-family=\"Times,serif\" font-size=\"14.00\">oper: *</text>\n<polyline fill=\"none\" stroke=\"black\" points=\"191,-219.5 191,-255.5 \"/>\n<text text-anchor=\"middle\" x=\"232\" y=\"-233.8\" font-family=\"Times,serif\" font-size=\"14.00\">value: &#45;6.00</text>\n<polyline fill=\"none\" stroke=\"black\" points=\"273,-219.5 273,-255.5 \"/>\n<text text-anchor=\"middle\" x=\"301\" y=\"-233.8\" font-family=\"Times,serif\" font-size=\"14.00\">label: e</text>\n<polyline fill=\"none\" stroke=\"black\" points=\"329,-219.5 329,-255.5 \"/>\n<text text-anchor=\"middle\" x=\"374\" y=\"-233.8\" font-family=\"Times,serif\" font-size=\"14.00\">grad: &#45;2.0000</text>\n</g>\n<!-- 140473363234960&#45;&gt;140473363235344 -->\n<g id=\"edge5\" class=\"edge\">\n<title>140473363234960&#45;&gt;140473363235344</title>\n<path fill=\"none\" stroke=\"black\" d=\"M147.46,-292.49C171.29,-282.6 201.53,-270.04 226.84,-259.53\"/>\n<polygon fill=\"black\" stroke=\"black\" points=\"228.39,-262.68 236.28,-255.61 225.71,-256.22 228.39,-262.68\"/>\n</g>\n<!-- 140473363236304 -->\n<g id=\"node4\" class=\"node\">\n<title>140473363236304</title>\n<polygon fill=\"lightblue\" stroke=\"black\" points=\"135,-146.5 135,-182.5 422,-182.5 422,-146.5 135,-146.5\"/>\n<text text-anchor=\"middle\" x=\"161.5\" y=\"-160.8\" font-family=\"Times,serif\" font-size=\"14.00\">oper: &#45;</text>\n<polyline fill=\"none\" stroke=\"black\" points=\"188,-146.5 188,-182.5 \"/>\n<text text-anchor=\"middle\" x=\"232.5\" y=\"-160.8\" font-family=\"Times,serif\" font-size=\"14.00\">value: &#45;16.00</text>\n<polyline fill=\"none\" stroke=\"black\" points=\"277,-146.5 277,-182.5 \"/>\n<text text-anchor=\"middle\" x=\"304.5\" y=\"-160.8\" font-family=\"Times,serif\" font-size=\"14.00\">label: f</text>\n<polyline fill=\"none\" stroke=\"black\" points=\"332,-146.5 332,-182.5 \"/>\n<text text-anchor=\"middle\" x=\"377\" y=\"-160.8\" font-family=\"Times,serif\" font-size=\"14.00\">grad: &#45;2.0000</text>\n</g>\n<!-- 140473363236304&#45;&gt;140473363236112 -->\n<g id=\"edge3\" class=\"edge\">\n<title>140473363236304&#45;&gt;140473363236112</title>\n<path fill=\"none\" stroke=\"black\" d=\"M257.68,-146.31C246.7,-137.24 233.05,-125.98 221.09,-116.1\"/>\n<polygon fill=\"black\" stroke=\"black\" points=\"223.07,-113.2 213.13,-109.53 218.61,-118.59 223.07,-113.2\"/>\n</g>\n<!-- 140473363235344&#45;&gt;140473363236304 -->\n<g id=\"edge4\" class=\"edge\">\n<title>140473363235344&#45;&gt;140473363236304</title>\n<path fill=\"none\" stroke=\"black\" d=\"M277.74,-219.31C277.86,-211.29 277.99,-201.55 278.12,-192.57\"/>\n<polygon fill=\"black\" stroke=\"black\" points=\"281.62,-192.58 278.26,-182.53 274.62,-192.48 281.62,-192.58\"/>\n</g>\n<!-- 140473363235920 -->\n<g id=\"node6\" class=\"node\">\n<title>140473363235920</title>\n<polygon fill=\"lightblue\" stroke=\"black\" points=\"230.5,-292.5 230.5,-328.5 452.5,-328.5 452.5,-292.5 230.5,-292.5\"/>\n<text text-anchor=\"middle\" x=\"268\" y=\"-306.8\" font-family=\"Times,serif\" font-size=\"14.00\">data: &#45;3.00</text>\n<polyline fill=\"none\" stroke=\"black\" points=\"305.5,-292.5 305.5,-328.5 \"/>\n<text text-anchor=\"middle\" x=\"334\" y=\"-306.8\" font-family=\"Times,serif\" font-size=\"14.00\">label: b</text>\n<polyline fill=\"none\" stroke=\"black\" points=\"362.5,-292.5 362.5,-328.5 \"/>\n<text text-anchor=\"middle\" x=\"407.5\" y=\"-306.8\" font-family=\"Times,serif\" font-size=\"14.00\">grad: &#45;4.0000</text>\n</g>\n<!-- 140473363235920&#45;&gt;140473363235344 -->\n<g id=\"edge6\" class=\"edge\">\n<title>140473363235920&#45;&gt;140473363235344</title>\n<path fill=\"none\" stroke=\"black\" d=\"M326.01,-292.31C318.07,-283.5 308.26,-272.63 299.55,-262.96\"/>\n<polygon fill=\"black\" stroke=\"black\" points=\"302.15,-260.61 292.85,-255.53 296.95,-265.3 302.15,-260.61\"/>\n</g>\n<!-- 140473363235152 -->\n<g id=\"node7\" class=\"node\">\n<title>140473363235152</title>\n<polygon fill=\"lightblue\" stroke=\"black\" points=\"437,-219.5 437,-255.5 656,-255.5 656,-219.5 437,-219.5\"/>\n<text text-anchor=\"middle\" x=\"475.5\" y=\"-233.8\" font-family=\"Times,serif\" font-size=\"14.00\">data: 10.00</text>\n<polyline fill=\"none\" stroke=\"black\" points=\"514,-219.5 514,-255.5 \"/>\n<text text-anchor=\"middle\" x=\"542\" y=\"-233.8\" font-family=\"Times,serif\" font-size=\"14.00\">label: c</text>\n<polyline fill=\"none\" stroke=\"black\" points=\"570,-219.5 570,-255.5 \"/>\n<text text-anchor=\"middle\" x=\"613\" y=\"-233.8\" font-family=\"Times,serif\" font-size=\"14.00\">grad: 2.0000</text>\n</g>\n<!-- 140473363235152&#45;&gt;140473363236304 -->\n<g id=\"edge7\" class=\"edge\">\n<title>140473363235152&#45;&gt;140473363236304</title>\n<path fill=\"none\" stroke=\"black\" d=\"M482.31,-219.49C443.4,-209.18 393.59,-195.99 352.95,-185.22\"/>\n<polygon fill=\"black\" stroke=\"black\" points=\"353.66,-181.79 343.1,-182.61 351.87,-188.56 353.66,-181.79\"/>\n</g>\n<!-- 140473363235408 -->\n<g id=\"node8\" class=\"node\">\n<title>140473363235408</title>\n<polygon fill=\"lightblue\" stroke=\"black\" points=\"357,-73.5 357,-109.5 586,-109.5 586,-73.5 357,-73.5\"/>\n<text text-anchor=\"middle\" x=\"394.5\" y=\"-87.8\" font-family=\"Times,serif\" font-size=\"14.00\">data: &#45;2.00</text>\n<polyline fill=\"none\" stroke=\"black\" points=\"432,-73.5 432,-109.5 \"/>\n<text text-anchor=\"middle\" x=\"460.5\" y=\"-87.8\" font-family=\"Times,serif\" font-size=\"14.00\">label: h</text>\n<polyline fill=\"none\" stroke=\"black\" points=\"489,-73.5 489,-109.5 \"/>\n<text text-anchor=\"middle\" x=\"537.5\" y=\"-87.8\" font-family=\"Times,serif\" font-size=\"14.00\">grad: &#45;14.0000</text>\n</g>\n<!-- 140473363235408&#45;&gt;140473363235664 -->\n<g id=\"edge8\" class=\"edge\">\n<title>140473363235408&#45;&gt;140473363235664</title>\n<path fill=\"none\" stroke=\"black\" d=\"M437.97,-73.49C418.89,-63.82 394.79,-51.6 374.35,-41.23\"/>\n<polygon fill=\"black\" stroke=\"black\" points=\"375.75,-38.02 365.25,-36.61 372.58,-44.26 375.75,-38.02\"/>\n</g>\n</g>\n</svg>\n",
            "text/plain": [
              "<graphviz.graphs.Digraph at 0x7fc280eef9d0>"
            ]
          },
          "metadata": {}
        }
      ]
    },
    {
      "cell_type": "markdown",
      "source": [
        "# A simple one unit neural network"
      ],
      "metadata": {
        "id": "ydm0ckvsRLwF"
      }
    },
    {
      "cell_type": "markdown",
      "source": [
        "![nn_img.webp](data:image/webp;base64,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)"
      ],
      "metadata": {
        "id": "F5WORtGKsB6Q"
      }
    },
    {
      "cell_type": "markdown",
      "source": [
        "# Visualizing the tanh Activation Function"
      ],
      "metadata": {
        "id": "ihXF6Ls7Ie-r"
      }
    },
    {
      "cell_type": "code",
      "source": [
        "xs = np.arange(-5,5,0.25)\n",
        "ys = np.tanh(xs)\n",
        "plt.plot(xs,ys)\n",
        "plt.grid()"
      ],
      "metadata": {
        "colab": {
          "base_uri": "https://localhost:8080/",
          "height": 430
        },
        "id": "sgPAHWYZ4uva",
        "outputId": "252313c1-db89-4989-ac4e-16cd6338603e"
      },
      "execution_count": null,
      "outputs": [
        {
          "output_type": "display_data",
          "data": {
            "text/plain": [
              "<Figure size 640x480 with 1 Axes>"
            ],
            "image/png": "[encoded data removed]"
          },
          "metadata": {}
        }
      ]
    },
    {
      "cell_type": "markdown",
      "source": [
        "# Building a Single Neuron Model\n",
        "This cell builds a simple single-neuron model using the Value objects. It defines input values (x1, x2, x3), weights (w1, w2, w3), and a bias (b). It then performs a series of operations to calculate the weighted sum of inputs, add the bias, and apply the tanh activation function. The output represents the activation of the neuron."
      ],
      "metadata": {
        "id": "6xGfHIdjIj7R"
      }
    },
    {
      "cell_type": "code",
      "source": [
        "x1 = Value(2 , _label='x1')\n",
        "x2 = Value(3 , _label='x2')\n",
        "x3 = Value(5 , _label='x3')\n",
        "\n",
        "w1 = Value(0.5 , _label='w1')\n",
        "w2 = Value(0.2 , _label='w2')\n",
        "w3 = Value(0.7 , _label='w3')\n",
        "\n",
        "b = Value(-4.7 , _label='b')\n",
        "\n",
        "x1w1 = x1*w1 ; x1w1._label = 'x1w1'\n",
        "x2w2 = x2*w2 ; x2w2._label = 'x2w2'\n",
        "x3w3 = x3*w3 ; x3w3._label = 'x3w3'\n",
        "\n",
        "x = x1w1 + x2w2  ; x._label = 'x'\n",
        "\n",
        "y = x + x3w3  ; y._label = 'y'\n",
        "\n",
        "z = y + b ; z._label = 'z'\n",
        "\n",
        "a = z.tanh() ; a._label = 'a'\n",
        "\n"
      ],
      "metadata": {
        "id": "6EHSozDHGNln"
      },
      "execution_count": null,
      "outputs": []
    },
    {
      "cell_type": "markdown",
      "source": [
        "# METHOD 1\n",
        "## Manually calculating the gradient for each node"
      ],
      "metadata": {
        "id": "sZc_CSbaIulR"
      }
    },
    {
      "cell_type": "code",
      "source": [
        "a.grad = 1.0\n",
        "z.grad = 0.8556\n",
        "y.grad = 0.8556\n",
        "b.grad = 0.8556\n",
        "x.grad = 0.8556\n",
        "x3w3.grad = 0.8556\n",
        "x2w2.grad = 0.8556\n",
        "x1w1.grad = 0.8556\n",
        "w3.grad = 4.2782\n",
        "w2.grad = 2.5669\n",
        "w1.grad = 1.7113\n",
        "x1.grad = 0.4278\n",
        "x2.grad = 0.1711\n",
        "x3.grad = 0.5989"
      ],
      "metadata": {
        "id": "RjafIqni5oLa"
      },
      "execution_count": null,
      "outputs": []
    },
    {
      "cell_type": "code",
      "source": [
        "dot = draw_computation_graph(a)\n",
        "display(dot)"
      ],
      "metadata": {
        "colab": {
          "base_uri": "https://localhost:8080/",
          "height": 588
        },
        "id": "l2fok8OgtK_s",
        "outputId": "87aca97b-de78-4bdf-ddfa-ff3e5534a366"
      },
      "execution_count": null,
      "outputs": [
        {
          "output_type": "display_data",
          "data": {
            "image/svg+xml": "<?xml version=\"1.0\" encoding=\"UTF-8\" standalone=\"no\"?>\n<!DOCTYPE svg PUBLIC \"-//W3C//DTD SVG 1.1//EN\"\n \"http://www.w3.org/Graphics/SVG/1.1/DTD/svg11.dtd\">\n<!-- Generated by graphviz version 2.43.0 (0)\n -->\n<!-- Title: %3 Pages: 1 -->\n<svg width=\"1301pt\" height=\"410pt\"\n viewBox=\"0.00 0.00 1300.50 410.00\" xmlns=\"http://www.w3.org/2000/svg\" xmlns:xlink=\"http://www.w3.org/1999/xlink\">\n<g id=\"graph0\" class=\"graph\" transform=\"scale(1 1) rotate(0) translate(4 406)\">\n<title>%3</title>\n<polygon fill=\"white\" stroke=\"transparent\" points=\"-4,4 -4,-406 1296.5,-406 1296.5,4 -4,4\"/>\n<!-- 140473353834768 -->\n<g id=\"node1\" class=\"node\">\n<title>140473353834768</title>\n<polygon fill=\"lightblue\" stroke=\"black\" points=\"485,-0.5 485,-36.5 775,-36.5 775,-0.5 485,-0.5\"/>\n<text text-anchor=\"middle\" x=\"520.5\" y=\"-14.8\" font-family=\"Times,serif\" font-size=\"14.00\">oper: tanh</text>\n<polyline fill=\"none\" stroke=\"black\" points=\"556,-0.5 556,-36.5 \"/>\n<text text-anchor=\"middle\" x=\"594.5\" y=\"-14.8\" font-family=\"Times,serif\" font-size=\"14.00\">value: 0.38</text>\n<polyline fill=\"none\" stroke=\"black\" points=\"633,-0.5 633,-36.5 \"/>\n<text text-anchor=\"middle\" x=\"661\" y=\"-14.8\" font-family=\"Times,serif\" font-size=\"14.00\">label: a</text>\n<polyline fill=\"none\" stroke=\"black\" points=\"689,-0.5 689,-36.5 \"/>\n<text text-anchor=\"middle\" x=\"732\" y=\"-14.8\" font-family=\"Times,serif\" font-size=\"14.00\">grad: 1.0000</text>\n</g>\n<!-- 140473353841936 -->\n<g id=\"node2\" class=\"node\">\n<title>140473353841936</title>\n<polygon fill=\"lightblue\" stroke=\"black\" points=\"492.5,-73.5 492.5,-109.5 767.5,-109.5 767.5,-73.5 492.5,-73.5\"/>\n<text text-anchor=\"middle\" x=\"520.5\" y=\"-87.8\" font-family=\"Times,serif\" font-size=\"14.00\">oper: +</text>\n<polyline fill=\"none\" stroke=\"black\" points=\"548.5,-73.5 548.5,-109.5 \"/>\n<text text-anchor=\"middle\" x=\"587\" y=\"-87.8\" font-family=\"Times,serif\" font-size=\"14.00\">value: 0.40</text>\n<polyline fill=\"none\" stroke=\"black\" points=\"625.5,-73.5 625.5,-109.5 \"/>\n<text text-anchor=\"middle\" x=\"653.5\" y=\"-87.8\" font-family=\"Times,serif\" font-size=\"14.00\">label: z</text>\n<polyline fill=\"none\" stroke=\"black\" points=\"681.5,-73.5 681.5,-109.5 \"/>\n<text text-anchor=\"middle\" x=\"724.5\" y=\"-87.8\" font-family=\"Times,serif\" font-size=\"14.00\">grad: 0.8556</text>\n</g>\n<!-- 140473353841936&#45;&gt;140473353834768 -->\n<g id=\"edge1\" class=\"edge\">\n<title>140473353841936&#45;&gt;140473353834768</title>\n<path fill=\"none\" stroke=\"black\" d=\"M630,-73.31C630,-65.29 630,-55.55 630,-46.57\"/>\n<polygon fill=\"black\" stroke=\"black\" points=\"633.5,-46.53 630,-36.53 626.5,-46.53 633.5,-46.53\"/>\n</g>\n<!-- 140473353877520 -->\n<g id=\"node3\" class=\"node\">\n<title>140473353877520</title>\n<polygon fill=\"lightblue\" stroke=\"black\" points=\"360,-146.5 360,-182.5 636,-182.5 636,-146.5 360,-146.5\"/>\n<text text-anchor=\"middle\" x=\"388\" y=\"-160.8\" font-family=\"Times,serif\" font-size=\"14.00\">oper: +</text>\n<polyline fill=\"none\" stroke=\"black\" points=\"416,-146.5 416,-182.5 \"/>\n<text text-anchor=\"middle\" x=\"454.5\" y=\"-160.8\" font-family=\"Times,serif\" font-size=\"14.00\">value: 5.10</text>\n<polyline fill=\"none\" stroke=\"black\" points=\"493,-146.5 493,-182.5 \"/>\n<text text-anchor=\"middle\" x=\"521.5\" y=\"-160.8\" font-family=\"Times,serif\" font-size=\"14.00\">label: y</text>\n<polyline fill=\"none\" stroke=\"black\" points=\"550,-146.5 550,-182.5 \"/>\n<text text-anchor=\"middle\" x=\"593\" y=\"-160.8\" font-family=\"Times,serif\" font-size=\"14.00\">grad: 0.8556</text>\n</g>\n<!-- 140473353877520&#45;&gt;140473353841936 -->\n<g id=\"edge2\" class=\"edge\">\n<title>140473353877520&#45;&gt;140473353841936</title>\n<path fill=\"none\" stroke=\"black\" d=\"M529.62,-146.49C547.53,-136.86 570.12,-124.71 589.34,-114.37\"/>\n<polygon fill=\"black\" stroke=\"black\" points=\"591.03,-117.43 598.18,-109.61 587.72,-111.27 591.03,-117.43\"/>\n</g>\n<!-- 140473353602320 -->\n<g id=\"node4\" class=\"node\">\n<title>140473353602320</title>\n<polygon fill=\"lightblue\" stroke=\"black\" points=\"197,-219.5 197,-255.5 495,-255.5 495,-219.5 197,-219.5\"/>\n<text text-anchor=\"middle\" x=\"224.5\" y=\"-233.8\" font-family=\"Times,serif\" font-size=\"14.00\">oper: *</text>\n<polyline fill=\"none\" stroke=\"black\" points=\"252,-219.5 252,-255.5 \"/>\n<text text-anchor=\"middle\" x=\"290.5\" y=\"-233.8\" font-family=\"Times,serif\" font-size=\"14.00\">value: 3.50</text>\n<polyline fill=\"none\" stroke=\"black\" points=\"329,-219.5 329,-255.5 \"/>\n<text text-anchor=\"middle\" x=\"369\" y=\"-233.8\" font-family=\"Times,serif\" font-size=\"14.00\">label: x3w3</text>\n<polyline fill=\"none\" stroke=\"black\" points=\"409,-219.5 409,-255.5 \"/>\n<text text-anchor=\"middle\" x=\"452\" y=\"-233.8\" font-family=\"Times,serif\" font-size=\"14.00\">grad: 0.8556</text>\n</g>\n<!-- 140473353602320&#45;&gt;140473353877520 -->\n<g id=\"edge3\" class=\"edge\">\n<title>140473353602320&#45;&gt;140473353877520</title>\n<path fill=\"none\" stroke=\"black\" d=\"M382.41,-219.49C403.31,-209.73 429.76,-197.38 452.08,-186.95\"/>\n<polygon fill=\"black\" stroke=\"black\" points=\"453.78,-190.02 461.36,-182.61 450.82,-183.67 453.78,-190.02\"/>\n</g>\n<!-- 140473353871184 -->\n<g id=\"node5\" class=\"node\">\n<title>140473353871184</title>\n<polygon fill=\"lightblue\" stroke=\"black\" points=\"0,-292.5 0,-328.5 224,-328.5 224,-292.5 0,-292.5\"/>\n<text text-anchor=\"middle\" x=\"35.5\" y=\"-306.8\" font-family=\"Times,serif\" font-size=\"14.00\">data: 0.70</text>\n<polyline fill=\"none\" stroke=\"black\" points=\"71,-292.5 71,-328.5 \"/>\n<text text-anchor=\"middle\" x=\"104.5\" y=\"-306.8\" font-family=\"Times,serif\" font-size=\"14.00\">label: w3</text>\n<polyline fill=\"none\" stroke=\"black\" points=\"138,-292.5 138,-328.5 \"/>\n<text text-anchor=\"middle\" x=\"181\" y=\"-306.8\" font-family=\"Times,serif\" font-size=\"14.00\">grad: 4.2782</text>\n</g>\n<!-- 140473353871184&#45;&gt;140473353602320 -->\n<g id=\"edge4\" class=\"edge\">\n<title>140473353871184&#45;&gt;140473353602320</title>\n<path fill=\"none\" stroke=\"black\" d=\"M168.05,-292.49C201.67,-282.29 244.59,-269.27 279.87,-258.57\"/>\n<polygon fill=\"black\" stroke=\"black\" points=\"281.04,-261.87 289.6,-255.61 279.01,-255.17 281.04,-261.87\"/>\n</g>\n<!-- 140473353871056 -->\n<g id=\"node6\" class=\"node\">\n<title>140473353871056</title>\n<polygon fill=\"lightblue\" stroke=\"black\" points=\"242.5,-292.5 242.5,-328.5 463.5,-328.5 463.5,-292.5 242.5,-292.5\"/>\n<text text-anchor=\"middle\" x=\"278\" y=\"-306.8\" font-family=\"Times,serif\" font-size=\"14.00\">data: 5.00</text>\n<polyline fill=\"none\" stroke=\"black\" points=\"313.5,-292.5 313.5,-328.5 \"/>\n<text text-anchor=\"middle\" x=\"345.5\" y=\"-306.8\" font-family=\"Times,serif\" font-size=\"14.00\">label: x3</text>\n<polyline fill=\"none\" stroke=\"black\" points=\"377.5,-292.5 377.5,-328.5 \"/>\n<text text-anchor=\"middle\" x=\"420.5\" y=\"-306.8\" font-family=\"Times,serif\" font-size=\"14.00\">grad: 0.5989</text>\n</g>\n<!-- 140473353871056&#45;&gt;140473353602320 -->\n<g id=\"edge5\" class=\"edge\">\n<title>140473353871056&#45;&gt;140473353602320</title>\n<path fill=\"none\" stroke=\"black\" d=\"M351.31,-292.31C350.51,-284.29 349.55,-274.55 348.67,-265.57\"/>\n<polygon fill=\"black\" stroke=\"black\" points=\"352.14,-265.14 347.68,-255.53 345.18,-265.82 352.14,-265.14\"/>\n</g>\n<!-- 140473353616080 -->\n<g id=\"node7\" class=\"node\">\n<title>140473353616080</title>\n<polygon fill=\"lightblue\" stroke=\"black\" points=\"513,-219.5 513,-255.5 789,-255.5 789,-219.5 513,-219.5\"/>\n<text text-anchor=\"middle\" x=\"541\" y=\"-233.8\" font-family=\"Times,serif\" font-size=\"14.00\">oper: +</text>\n<polyline fill=\"none\" stroke=\"black\" points=\"569,-219.5 569,-255.5 \"/>\n<text text-anchor=\"middle\" x=\"607.5\" y=\"-233.8\" font-family=\"Times,serif\" font-size=\"14.00\">value: 1.60</text>\n<polyline fill=\"none\" stroke=\"black\" points=\"646,-219.5 646,-255.5 \"/>\n<text text-anchor=\"middle\" x=\"674.5\" y=\"-233.8\" font-family=\"Times,serif\" font-size=\"14.00\">label: x</text>\n<polyline fill=\"none\" stroke=\"black\" points=\"703,-219.5 703,-255.5 \"/>\n<text text-anchor=\"middle\" x=\"746\" y=\"-233.8\" font-family=\"Times,serif\" font-size=\"14.00\">grad: 0.8556</text>\n</g>\n<!-- 140473353616080&#45;&gt;140473353877520 -->\n<g id=\"edge6\" class=\"edge\">\n<title>140473353616080&#45;&gt;140473353877520</title>\n<path fill=\"none\" stroke=\"black\" d=\"M614.35,-219.49C593.31,-209.73 566.69,-197.38 544.22,-186.95\"/>\n<polygon fill=\"black\" stroke=\"black\" points=\"545.42,-183.65 534.88,-182.61 542.48,-190 545.42,-183.65\"/>\n</g>\n<!-- 140473363451664 -->\n<g id=\"node8\" class=\"node\">\n<title>140473363451664</title>\n<polygon fill=\"lightblue\" stroke=\"black\" points=\"495,-292.5 495,-328.5 793,-328.5 793,-292.5 495,-292.5\"/>\n<text text-anchor=\"middle\" x=\"522.5\" y=\"-306.8\" font-family=\"Times,serif\" font-size=\"14.00\">oper: *</text>\n<polyline fill=\"none\" stroke=\"black\" points=\"550,-292.5 550,-328.5 \"/>\n<text text-anchor=\"middle\" x=\"588.5\" y=\"-306.8\" font-family=\"Times,serif\" font-size=\"14.00\">value: 1.00</text>\n<polyline fill=\"none\" stroke=\"black\" points=\"627,-292.5 627,-328.5 \"/>\n<text text-anchor=\"middle\" x=\"667\" y=\"-306.8\" font-family=\"Times,serif\" font-size=\"14.00\">label: x1w1</text>\n<polyline fill=\"none\" stroke=\"black\" points=\"707,-292.5 707,-328.5 \"/>\n<text text-anchor=\"middle\" x=\"750\" y=\"-306.8\" font-family=\"Times,serif\" font-size=\"14.00\">grad: 0.8556</text>\n</g>\n<!-- 140473363451664&#45;&gt;140473353616080 -->\n<g id=\"edge7\" class=\"edge\">\n<title>140473363451664&#45;&gt;140473353616080</title>\n<path fill=\"none\" stroke=\"black\" d=\"M645.69,-292.31C646.49,-284.29 647.45,-274.55 648.33,-265.57\"/>\n<polygon fill=\"black\" stroke=\"black\" points=\"651.82,-265.82 649.32,-255.53 644.86,-265.14 651.82,-265.82\"/>\n</g>\n<!-- 140473353876560 -->\n<g id=\"node9\" class=\"node\">\n<title>140473353876560</title>\n<polygon fill=\"lightblue\" stroke=\"black\" points=\"310,-365.5 310,-401.5 534,-401.5 534,-365.5 310,-365.5\"/>\n<text text-anchor=\"middle\" x=\"345.5\" y=\"-379.8\" font-family=\"Times,serif\" font-size=\"14.00\">data: 0.50</text>\n<polyline fill=\"none\" stroke=\"black\" points=\"381,-365.5 381,-401.5 \"/>\n<text text-anchor=\"middle\" x=\"414.5\" y=\"-379.8\" font-family=\"Times,serif\" font-size=\"14.00\">label: w1</text>\n<polyline fill=\"none\" stroke=\"black\" points=\"448,-365.5 448,-401.5 \"/>\n<text text-anchor=\"middle\" x=\"491\" y=\"-379.8\" font-family=\"Times,serif\" font-size=\"14.00\">grad: 1.7113</text>\n</g>\n<!-- 140473353876560&#45;&gt;140473363451664 -->\n<g id=\"edge8\" class=\"edge\">\n<title>140473353876560&#45;&gt;140473363451664</title>\n<path fill=\"none\" stroke=\"black\" d=\"M475.17,-365.49C506.93,-355.34 547.45,-342.38 580.83,-331.7\"/>\n<polygon fill=\"black\" stroke=\"black\" points=\"582.03,-334.99 590.49,-328.61 579.9,-328.33 582.03,-334.99\"/>\n</g>\n<!-- 140473353644240 -->\n<g id=\"node10\" class=\"node\">\n<title>140473353644240</title>\n<polygon fill=\"lightblue\" stroke=\"black\" points=\"552.5,-365.5 552.5,-401.5 773.5,-401.5 773.5,-365.5 552.5,-365.5\"/>\n<text text-anchor=\"middle\" x=\"588\" y=\"-379.8\" font-family=\"Times,serif\" font-size=\"14.00\">data: 2.00</text>\n<polyline fill=\"none\" stroke=\"black\" points=\"623.5,-365.5 623.5,-401.5 \"/>\n<text text-anchor=\"middle\" x=\"655.5\" y=\"-379.8\" font-family=\"Times,serif\" font-size=\"14.00\">label: x1</text>\n<polyline fill=\"none\" stroke=\"black\" points=\"687.5,-365.5 687.5,-401.5 \"/>\n<text text-anchor=\"middle\" x=\"730.5\" y=\"-379.8\" font-family=\"Times,serif\" font-size=\"14.00\">grad: 0.4278</text>\n</g>\n<!-- 140473353644240&#45;&gt;140473363451664 -->\n<g id=\"edge9\" class=\"edge\">\n<title>140473353644240&#45;&gt;140473363451664</title>\n<path fill=\"none\" stroke=\"black\" d=\"M658.4,-365.31C656.23,-357.2 653.59,-347.34 651.17,-338.28\"/>\n<polygon fill=\"black\" stroke=\"black\" points=\"654.52,-337.28 648.56,-328.53 647.76,-339.09 654.52,-337.28\"/>\n</g>\n<!-- 140473372996112 -->\n<g id=\"node11\" class=\"node\">\n<title>140473372996112</title>\n<polygon fill=\"lightblue\" stroke=\"black\" points=\"811,-292.5 811,-328.5 1109,-328.5 1109,-292.5 811,-292.5\"/>\n<text text-anchor=\"middle\" x=\"838.5\" y=\"-306.8\" font-family=\"Times,serif\" font-size=\"14.00\">oper: *</text>\n<polyline fill=\"none\" stroke=\"black\" points=\"866,-292.5 866,-328.5 \"/>\n<text text-anchor=\"middle\" x=\"904.5\" y=\"-306.8\" font-family=\"Times,serif\" font-size=\"14.00\">value: 0.60</text>\n<polyline fill=\"none\" stroke=\"black\" points=\"943,-292.5 943,-328.5 \"/>\n<text text-anchor=\"middle\" x=\"983\" y=\"-306.8\" font-family=\"Times,serif\" font-size=\"14.00\">label: x2w2</text>\n<polyline fill=\"none\" stroke=\"black\" points=\"1023,-292.5 1023,-328.5 \"/>\n<text text-anchor=\"middle\" x=\"1066\" y=\"-306.8\" font-family=\"Times,serif\" font-size=\"14.00\">grad: 0.8556</text>\n</g>\n<!-- 140473372996112&#45;&gt;140473353616080 -->\n<g id=\"edge10\" class=\"edge\">\n<title>140473372996112&#45;&gt;140473353616080</title>\n<path fill=\"none\" stroke=\"black\" d=\"M885.99,-292.49C840.56,-282.06 782.26,-268.66 735.1,-257.82\"/>\n<polygon fill=\"black\" stroke=\"black\" points=\"735.74,-254.38 725.21,-255.55 734.17,-261.2 735.74,-254.38\"/>\n</g>\n<!-- 140473353873936 -->\n<g id=\"node12\" class=\"node\">\n<title>140473353873936</title>\n<polygon fill=\"lightblue\" stroke=\"black\" points=\"829,-365.5 829,-401.5 1053,-401.5 1053,-365.5 829,-365.5\"/>\n<text text-anchor=\"middle\" x=\"864.5\" y=\"-379.8\" font-family=\"Times,serif\" font-size=\"14.00\">data: 0.20</text>\n<polyline fill=\"none\" stroke=\"black\" points=\"900,-365.5 900,-401.5 \"/>\n<text text-anchor=\"middle\" x=\"933.5\" y=\"-379.8\" font-family=\"Times,serif\" font-size=\"14.00\">label: w2</text>\n<polyline fill=\"none\" stroke=\"black\" points=\"967,-365.5 967,-401.5 \"/>\n<text text-anchor=\"middle\" x=\"1010\" y=\"-379.8\" font-family=\"Times,serif\" font-size=\"14.00\">grad: 2.5669</text>\n</g>\n<!-- 140473353873936&#45;&gt;140473372996112 -->\n<g id=\"edge11\" class=\"edge\">\n<title>140473353873936&#45;&gt;140473372996112</title>\n<path fill=\"none\" stroke=\"black\" d=\"M945.6,-365.31C947.77,-357.2 950.41,-347.34 952.83,-338.28\"/>\n<polygon fill=\"black\" stroke=\"black\" points=\"956.24,-339.09 955.44,-328.53 949.48,-337.28 956.24,-339.09\"/>\n</g>\n<!-- 140473353721552 -->\n<g id=\"node13\" class=\"node\">\n<title>140473353721552</title>\n<polygon fill=\"lightblue\" stroke=\"black\" points=\"1071.5,-365.5 1071.5,-401.5 1292.5,-401.5 1292.5,-365.5 1071.5,-365.5\"/>\n<text text-anchor=\"middle\" x=\"1107\" y=\"-379.8\" font-family=\"Times,serif\" font-size=\"14.00\">data: 3.00</text>\n<polyline fill=\"none\" stroke=\"black\" points=\"1142.5,-365.5 1142.5,-401.5 \"/>\n<text text-anchor=\"middle\" x=\"1174.5\" y=\"-379.8\" font-family=\"Times,serif\" font-size=\"14.00\">label: x2</text>\n<polyline fill=\"none\" stroke=\"black\" points=\"1206.5,-365.5 1206.5,-401.5 \"/>\n<text text-anchor=\"middle\" x=\"1249.5\" y=\"-379.8\" font-family=\"Times,serif\" font-size=\"14.00\">grad: 0.1711</text>\n</g>\n<!-- 140473353721552&#45;&gt;140473372996112 -->\n<g id=\"edge12\" class=\"edge\">\n<title>140473353721552&#45;&gt;140473372996112</title>\n<path fill=\"none\" stroke=\"black\" d=\"M1128.83,-365.49C1097.07,-355.34 1056.55,-342.38 1023.17,-331.7\"/>\n<polygon fill=\"black\" stroke=\"black\" points=\"1024.1,-328.33 1013.51,-328.61 1021.97,-334.99 1024.1,-328.33\"/>\n</g>\n<!-- 140473353879120 -->\n<g id=\"node14\" class=\"node\">\n<title>140473353879120</title>\n<polygon fill=\"lightblue\" stroke=\"black\" points=\"654,-146.5 654,-182.5 872,-182.5 872,-146.5 654,-146.5\"/>\n<text text-anchor=\"middle\" x=\"691.5\" y=\"-160.8\" font-family=\"Times,serif\" font-size=\"14.00\">data: &#45;4.70</text>\n<polyline fill=\"none\" stroke=\"black\" points=\"729,-146.5 729,-182.5 \"/>\n<text text-anchor=\"middle\" x=\"757.5\" y=\"-160.8\" font-family=\"Times,serif\" font-size=\"14.00\">label: b</text>\n<polyline fill=\"none\" stroke=\"black\" points=\"786,-146.5 786,-182.5 \"/>\n<text text-anchor=\"middle\" x=\"829\" y=\"-160.8\" font-family=\"Times,serif\" font-size=\"14.00\">grad: 0.8556</text>\n</g>\n<!-- 140473353879120&#45;&gt;140473353841936 -->\n<g id=\"edge13\" class=\"edge\">\n<title>140473353879120&#45;&gt;140473353841936</title>\n<path fill=\"none\" stroke=\"black\" d=\"M731.14,-146.49C713.1,-136.86 690.33,-124.71 670.97,-114.37\"/>\n<polygon fill=\"black\" stroke=\"black\" points=\"672.53,-111.24 662.06,-109.61 669.23,-117.41 672.53,-111.24\"/>\n</g>\n</g>\n</svg>\n",
            "text/plain": [
              "<graphviz.graphs.Digraph at 0x7fc28059f850>"
            ]
          },
          "metadata": {}
        }
      ]
    },
    {
      "cell_type": "markdown",
      "source": [
        "# Intutions\n",
        "- Here we have only single neuron\n",
        "- In NN setup what we really care about is the derivative of a wrt weights and bias\n",
        "- **Tip:** a plus(+) node is just a distrubuter of the gradient\n"
      ],
      "metadata": {
        "id": "cLXRJDmf5O43"
      }
    },
    {
      "cell_type": "markdown",
      "source": [
        "# Setting the gradient to zero except the gradient of a which is set to one."
      ],
      "metadata": {
        "id": "Z_cVA2ZEI9hb"
      }
    },
    {
      "cell_type": "code",
      "source": [
        "a.grad = 1 # Very important to put this base case manually\n",
        "z.grad = 0\n",
        "y.grad = 0\n",
        "b.grad = 0\n",
        "x.grad = 0\n",
        "x3w3.grad = 0\n",
        "x2w2.grad = 0\n",
        "x1w1.grad = 0\n",
        "w3.grad = 0\n",
        "w2.grad = 0\n",
        "w1.grad = 0\n",
        "x1.grad = 0\n",
        "x2.grad = 0\n",
        "x3.grad = 0"
      ],
      "metadata": {
        "id": "rkoljYMAv63Q"
      },
      "execution_count": null,
      "outputs": []
    },
    {
      "cell_type": "markdown",
      "source": [
        "# METHOD 2\n",
        "## Manually calling the ._backward() method to compute the gradient"
      ],
      "metadata": {
        "id": "qu1NhIcxJNvO"
      }
    },
    {
      "cell_type": "code",
      "source": [
        "a._backward()\n",
        "z._backward()\n",
        "y._backward()\n",
        "b._backward()\n",
        "x._backward()\n",
        "x3w3._backward()\n",
        "x2w2._backward()\n",
        "x1w1._backward()"
      ],
      "metadata": {
        "id": "l2m7zc47u__p"
      },
      "execution_count": null,
      "outputs": []
    },
    {
      "cell_type": "markdown",
      "source": [
        "**Result**\n",
        "- This way we got the same gradients .\n",
        "- Now we will work on removing the manual calling of ._backward() method ."
      ],
      "metadata": {
        "id": "BxAqetSOUHjn"
      }
    },
    {
      "cell_type": "code",
      "source": [
        "dot = draw_computation_graph(a)\n",
        "display(dot)"
      ],
      "metadata": {
        "colab": {
          "base_uri": "https://localhost:8080/",
          "height": 588
        },
        "id": "jWIzH0YIvEEp",
        "outputId": "60cf1002-408c-4995-e449-707394f94d23"
      },
      "execution_count": null,
      "outputs": [
        {
          "output_type": "display_data",
          "data": {
            "image/svg+xml": "<?xml version=\"1.0\" encoding=\"UTF-8\" standalone=\"no\"?>\n<!DOCTYPE svg PUBLIC \"-//W3C//DTD SVG 1.1//EN\"\n \"http://www.w3.org/Graphics/SVG/1.1/DTD/svg11.dtd\">\n<!-- Generated by graphviz version 2.43.0 (0)\n -->\n<!-- Title: %3 Pages: 1 -->\n<svg width=\"1301pt\" height=\"410pt\"\n viewBox=\"0.00 0.00 1300.50 410.00\" xmlns=\"http://www.w3.org/2000/svg\" xmlns:xlink=\"http://www.w3.org/1999/xlink\">\n<g id=\"graph0\" class=\"graph\" transform=\"scale(1 1) rotate(0) translate(4 406)\">\n<title>%3</title>\n<polygon fill=\"white\" stroke=\"transparent\" points=\"-4,4 -4,-406 1296.5,-406 1296.5,4 -4,4\"/>\n<!-- 140473353834768 -->\n<g id=\"node1\" class=\"node\">\n<title>140473353834768</title>\n<polygon fill=\"lightblue\" stroke=\"black\" points=\"485,-0.5 485,-36.5 775,-36.5 775,-0.5 485,-0.5\"/>\n<text text-anchor=\"middle\" x=\"520.5\" y=\"-14.8\" font-family=\"Times,serif\" font-size=\"14.00\">oper: tanh</text>\n<polyline fill=\"none\" stroke=\"black\" points=\"556,-0.5 556,-36.5 \"/>\n<text text-anchor=\"middle\" x=\"594.5\" y=\"-14.8\" font-family=\"Times,serif\" font-size=\"14.00\">value: 0.38</text>\n<polyline fill=\"none\" stroke=\"black\" points=\"633,-0.5 633,-36.5 \"/>\n<text text-anchor=\"middle\" x=\"661\" y=\"-14.8\" font-family=\"Times,serif\" font-size=\"14.00\">label: a</text>\n<polyline fill=\"none\" stroke=\"black\" points=\"689,-0.5 689,-36.5 \"/>\n<text text-anchor=\"middle\" x=\"732\" y=\"-14.8\" font-family=\"Times,serif\" font-size=\"14.00\">grad: 1.0000</text>\n</g>\n<!-- 140473353841936 -->\n<g id=\"node2\" class=\"node\">\n<title>140473353841936</title>\n<polygon fill=\"lightblue\" stroke=\"black\" points=\"492.5,-73.5 492.5,-109.5 767.5,-109.5 767.5,-73.5 492.5,-73.5\"/>\n<text text-anchor=\"middle\" x=\"520.5\" y=\"-87.8\" font-family=\"Times,serif\" font-size=\"14.00\">oper: +</text>\n<polyline fill=\"none\" stroke=\"black\" points=\"548.5,-73.5 548.5,-109.5 \"/>\n<text text-anchor=\"middle\" x=\"587\" y=\"-87.8\" font-family=\"Times,serif\" font-size=\"14.00\">value: 0.40</text>\n<polyline fill=\"none\" stroke=\"black\" points=\"625.5,-73.5 625.5,-109.5 \"/>\n<text text-anchor=\"middle\" x=\"653.5\" y=\"-87.8\" font-family=\"Times,serif\" font-size=\"14.00\">label: z</text>\n<polyline fill=\"none\" stroke=\"black\" points=\"681.5,-73.5 681.5,-109.5 \"/>\n<text text-anchor=\"middle\" x=\"724.5\" y=\"-87.8\" font-family=\"Times,serif\" font-size=\"14.00\">grad: 0.8556</text>\n</g>\n<!-- 140473353841936&#45;&gt;140473353834768 -->\n<g id=\"edge1\" class=\"edge\">\n<title>140473353841936&#45;&gt;140473353834768</title>\n<path fill=\"none\" stroke=\"black\" d=\"M630,-73.31C630,-65.29 630,-55.55 630,-46.57\"/>\n<polygon fill=\"black\" stroke=\"black\" points=\"633.5,-46.53 630,-36.53 626.5,-46.53 633.5,-46.53\"/>\n</g>\n<!-- 140473353877520 -->\n<g id=\"node3\" class=\"node\">\n<title>140473353877520</title>\n<polygon fill=\"lightblue\" stroke=\"black\" points=\"360,-146.5 360,-182.5 636,-182.5 636,-146.5 360,-146.5\"/>\n<text text-anchor=\"middle\" x=\"388\" y=\"-160.8\" font-family=\"Times,serif\" font-size=\"14.00\">oper: +</text>\n<polyline fill=\"none\" stroke=\"black\" points=\"416,-146.5 416,-182.5 \"/>\n<text text-anchor=\"middle\" x=\"454.5\" y=\"-160.8\" font-family=\"Times,serif\" font-size=\"14.00\">value: 5.10</text>\n<polyline fill=\"none\" stroke=\"black\" points=\"493,-146.5 493,-182.5 \"/>\n<text text-anchor=\"middle\" x=\"521.5\" y=\"-160.8\" font-family=\"Times,serif\" font-size=\"14.00\">label: y</text>\n<polyline fill=\"none\" stroke=\"black\" points=\"550,-146.5 550,-182.5 \"/>\n<text text-anchor=\"middle\" x=\"593\" y=\"-160.8\" font-family=\"Times,serif\" font-size=\"14.00\">grad: 0.8556</text>\n</g>\n<!-- 140473353877520&#45;&gt;140473353841936 -->\n<g id=\"edge2\" class=\"edge\">\n<title>140473353877520&#45;&gt;140473353841936</title>\n<path fill=\"none\" stroke=\"black\" d=\"M529.62,-146.49C547.53,-136.86 570.12,-124.71 589.34,-114.37\"/>\n<polygon fill=\"black\" stroke=\"black\" points=\"591.03,-117.43 598.18,-109.61 587.72,-111.27 591.03,-117.43\"/>\n</g>\n<!-- 140473353602320 -->\n<g id=\"node4\" class=\"node\">\n<title>140473353602320</title>\n<polygon fill=\"lightblue\" stroke=\"black\" points=\"197,-219.5 197,-255.5 495,-255.5 495,-219.5 197,-219.5\"/>\n<text text-anchor=\"middle\" x=\"224.5\" y=\"-233.8\" font-family=\"Times,serif\" font-size=\"14.00\">oper: *</text>\n<polyline fill=\"none\" stroke=\"black\" points=\"252,-219.5 252,-255.5 \"/>\n<text text-anchor=\"middle\" x=\"290.5\" y=\"-233.8\" font-family=\"Times,serif\" font-size=\"14.00\">value: 3.50</text>\n<polyline fill=\"none\" stroke=\"black\" points=\"329,-219.5 329,-255.5 \"/>\n<text text-anchor=\"middle\" x=\"369\" y=\"-233.8\" font-family=\"Times,serif\" font-size=\"14.00\">label: x3w3</text>\n<polyline fill=\"none\" stroke=\"black\" points=\"409,-219.5 409,-255.5 \"/>\n<text text-anchor=\"middle\" x=\"452\" y=\"-233.8\" font-family=\"Times,serif\" font-size=\"14.00\">grad: 0.8556</text>\n</g>\n<!-- 140473353602320&#45;&gt;140473353877520 -->\n<g id=\"edge3\" class=\"edge\">\n<title>140473353602320&#45;&gt;140473353877520</title>\n<path fill=\"none\" stroke=\"black\" d=\"M382.41,-219.49C403.31,-209.73 429.76,-197.38 452.08,-186.95\"/>\n<polygon fill=\"black\" stroke=\"black\" points=\"453.78,-190.02 461.36,-182.61 450.82,-183.67 453.78,-190.02\"/>\n</g>\n<!-- 140473353871184 -->\n<g id=\"node5\" class=\"node\">\n<title>140473353871184</title>\n<polygon fill=\"lightblue\" stroke=\"black\" points=\"0,-292.5 0,-328.5 224,-328.5 224,-292.5 0,-292.5\"/>\n<text text-anchor=\"middle\" x=\"35.5\" y=\"-306.8\" font-family=\"Times,serif\" font-size=\"14.00\">data: 0.70</text>\n<polyline fill=\"none\" stroke=\"black\" points=\"71,-292.5 71,-328.5 \"/>\n<text text-anchor=\"middle\" x=\"104.5\" y=\"-306.8\" font-family=\"Times,serif\" font-size=\"14.00\">label: w3</text>\n<polyline fill=\"none\" stroke=\"black\" points=\"138,-292.5 138,-328.5 \"/>\n<text text-anchor=\"middle\" x=\"181\" y=\"-306.8\" font-family=\"Times,serif\" font-size=\"14.00\">grad: 4.2782</text>\n</g>\n<!-- 140473353871184&#45;&gt;140473353602320 -->\n<g id=\"edge4\" class=\"edge\">\n<title>140473353871184&#45;&gt;140473353602320</title>\n<path fill=\"none\" stroke=\"black\" d=\"M168.05,-292.49C201.67,-282.29 244.59,-269.27 279.87,-258.57\"/>\n<polygon fill=\"black\" stroke=\"black\" points=\"281.04,-261.87 289.6,-255.61 279.01,-255.17 281.04,-261.87\"/>\n</g>\n<!-- 140473353871056 -->\n<g id=\"node6\" class=\"node\">\n<title>140473353871056</title>\n<polygon fill=\"lightblue\" stroke=\"black\" points=\"242.5,-292.5 242.5,-328.5 463.5,-328.5 463.5,-292.5 242.5,-292.5\"/>\n<text text-anchor=\"middle\" x=\"278\" y=\"-306.8\" font-family=\"Times,serif\" font-size=\"14.00\">data: 5.00</text>\n<polyline fill=\"none\" stroke=\"black\" points=\"313.5,-292.5 313.5,-328.5 \"/>\n<text text-anchor=\"middle\" x=\"345.5\" y=\"-306.8\" font-family=\"Times,serif\" font-size=\"14.00\">label: x3</text>\n<polyline fill=\"none\" stroke=\"black\" points=\"377.5,-292.5 377.5,-328.5 \"/>\n<text text-anchor=\"middle\" x=\"420.5\" y=\"-306.8\" font-family=\"Times,serif\" font-size=\"14.00\">grad: 0.5989</text>\n</g>\n<!-- 140473353871056&#45;&gt;140473353602320 -->\n<g id=\"edge5\" class=\"edge\">\n<title>140473353871056&#45;&gt;140473353602320</title>\n<path fill=\"none\" stroke=\"black\" d=\"M351.31,-292.31C350.51,-284.29 349.55,-274.55 348.67,-265.57\"/>\n<polygon fill=\"black\" stroke=\"black\" points=\"352.14,-265.14 347.68,-255.53 345.18,-265.82 352.14,-265.14\"/>\n</g>\n<!-- 140473353616080 -->\n<g id=\"node7\" class=\"node\">\n<title>140473353616080</title>\n<polygon fill=\"lightblue\" stroke=\"black\" points=\"513,-219.5 513,-255.5 789,-255.5 789,-219.5 513,-219.5\"/>\n<text text-anchor=\"middle\" x=\"541\" y=\"-233.8\" font-family=\"Times,serif\" font-size=\"14.00\">oper: +</text>\n<polyline fill=\"none\" stroke=\"black\" points=\"569,-219.5 569,-255.5 \"/>\n<text text-anchor=\"middle\" x=\"607.5\" y=\"-233.8\" font-family=\"Times,serif\" font-size=\"14.00\">value: 1.60</text>\n<polyline fill=\"none\" stroke=\"black\" points=\"646,-219.5 646,-255.5 \"/>\n<text text-anchor=\"middle\" x=\"674.5\" y=\"-233.8\" font-family=\"Times,serif\" font-size=\"14.00\">label: x</text>\n<polyline fill=\"none\" stroke=\"black\" points=\"703,-219.5 703,-255.5 \"/>\n<text text-anchor=\"middle\" x=\"746\" y=\"-233.8\" font-family=\"Times,serif\" font-size=\"14.00\">grad: 0.8556</text>\n</g>\n<!-- 140473353616080&#45;&gt;140473353877520 -->\n<g id=\"edge6\" class=\"edge\">\n<title>140473353616080&#45;&gt;140473353877520</title>\n<path fill=\"none\" stroke=\"black\" d=\"M614.35,-219.49C593.31,-209.73 566.69,-197.38 544.22,-186.95\"/>\n<polygon fill=\"black\" stroke=\"black\" points=\"545.42,-183.65 534.88,-182.61 542.48,-190 545.42,-183.65\"/>\n</g>\n<!-- 140473363451664 -->\n<g id=\"node8\" class=\"node\">\n<title>140473363451664</title>\n<polygon fill=\"lightblue\" stroke=\"black\" points=\"495,-292.5 495,-328.5 793,-328.5 793,-292.5 495,-292.5\"/>\n<text text-anchor=\"middle\" x=\"522.5\" y=\"-306.8\" font-family=\"Times,serif\" font-size=\"14.00\">oper: *</text>\n<polyline fill=\"none\" stroke=\"black\" points=\"550,-292.5 550,-328.5 \"/>\n<text text-anchor=\"middle\" x=\"588.5\" y=\"-306.8\" font-family=\"Times,serif\" font-size=\"14.00\">value: 1.00</text>\n<polyline fill=\"none\" stroke=\"black\" points=\"627,-292.5 627,-328.5 \"/>\n<text text-anchor=\"middle\" x=\"667\" y=\"-306.8\" font-family=\"Times,serif\" font-size=\"14.00\">label: x1w1</text>\n<polyline fill=\"none\" stroke=\"black\" points=\"707,-292.5 707,-328.5 \"/>\n<text text-anchor=\"middle\" x=\"750\" y=\"-306.8\" font-family=\"Times,serif\" font-size=\"14.00\">grad: 0.8556</text>\n</g>\n<!-- 140473363451664&#45;&gt;140473353616080 -->\n<g id=\"edge7\" class=\"edge\">\n<title>140473363451664&#45;&gt;140473353616080</title>\n<path fill=\"none\" stroke=\"black\" d=\"M645.69,-292.31C646.49,-284.29 647.45,-274.55 648.33,-265.57\"/>\n<polygon fill=\"black\" stroke=\"black\" points=\"651.82,-265.82 649.32,-255.53 644.86,-265.14 651.82,-265.82\"/>\n</g>\n<!-- 140473353876560 -->\n<g id=\"node9\" class=\"node\">\n<title>140473353876560</title>\n<polygon fill=\"lightblue\" stroke=\"black\" points=\"310,-365.5 310,-401.5 534,-401.5 534,-365.5 310,-365.5\"/>\n<text text-anchor=\"middle\" x=\"345.5\" y=\"-379.8\" font-family=\"Times,serif\" font-size=\"14.00\">data: 0.50</text>\n<polyline fill=\"none\" stroke=\"black\" points=\"381,-365.5 381,-401.5 \"/>\n<text text-anchor=\"middle\" x=\"414.5\" y=\"-379.8\" font-family=\"Times,serif\" font-size=\"14.00\">label: w1</text>\n<polyline fill=\"none\" stroke=\"black\" points=\"448,-365.5 448,-401.5 \"/>\n<text text-anchor=\"middle\" x=\"491\" y=\"-379.8\" font-family=\"Times,serif\" font-size=\"14.00\">grad: 1.7113</text>\n</g>\n<!-- 140473353876560&#45;&gt;140473363451664 -->\n<g id=\"edge8\" class=\"edge\">\n<title>140473353876560&#45;&gt;140473363451664</title>\n<path fill=\"none\" stroke=\"black\" d=\"M475.17,-365.49C506.93,-355.34 547.45,-342.38 580.83,-331.7\"/>\n<polygon fill=\"black\" stroke=\"black\" points=\"582.03,-334.99 590.49,-328.61 579.9,-328.33 582.03,-334.99\"/>\n</g>\n<!-- 140473353644240 -->\n<g id=\"node10\" class=\"node\">\n<title>140473353644240</title>\n<polygon fill=\"lightblue\" stroke=\"black\" points=\"552.5,-365.5 552.5,-401.5 773.5,-401.5 773.5,-365.5 552.5,-365.5\"/>\n<text text-anchor=\"middle\" x=\"588\" y=\"-379.8\" font-family=\"Times,serif\" font-size=\"14.00\">data: 2.00</text>\n<polyline fill=\"none\" stroke=\"black\" points=\"623.5,-365.5 623.5,-401.5 \"/>\n<text text-anchor=\"middle\" x=\"655.5\" y=\"-379.8\" font-family=\"Times,serif\" font-size=\"14.00\">label: x1</text>\n<polyline fill=\"none\" stroke=\"black\" points=\"687.5,-365.5 687.5,-401.5 \"/>\n<text text-anchor=\"middle\" x=\"730.5\" y=\"-379.8\" font-family=\"Times,serif\" font-size=\"14.00\">grad: 0.4278</text>\n</g>\n<!-- 140473353644240&#45;&gt;140473363451664 -->\n<g id=\"edge9\" class=\"edge\">\n<title>140473353644240&#45;&gt;140473363451664</title>\n<path fill=\"none\" stroke=\"black\" d=\"M658.4,-365.31C656.23,-357.2 653.59,-347.34 651.17,-338.28\"/>\n<polygon fill=\"black\" stroke=\"black\" points=\"654.52,-337.28 648.56,-328.53 647.76,-339.09 654.52,-337.28\"/>\n</g>\n<!-- 140473372996112 -->\n<g id=\"node11\" class=\"node\">\n<title>140473372996112</title>\n<polygon fill=\"lightblue\" stroke=\"black\" points=\"811,-292.5 811,-328.5 1109,-328.5 1109,-292.5 811,-292.5\"/>\n<text text-anchor=\"middle\" x=\"838.5\" y=\"-306.8\" font-family=\"Times,serif\" font-size=\"14.00\">oper: *</text>\n<polyline fill=\"none\" stroke=\"black\" points=\"866,-292.5 866,-328.5 \"/>\n<text text-anchor=\"middle\" x=\"904.5\" y=\"-306.8\" font-family=\"Times,serif\" font-size=\"14.00\">value: 0.60</text>\n<polyline fill=\"none\" stroke=\"black\" points=\"943,-292.5 943,-328.5 \"/>\n<text text-anchor=\"middle\" x=\"983\" y=\"-306.8\" font-family=\"Times,serif\" font-size=\"14.00\">label: x2w2</text>\n<polyline fill=\"none\" stroke=\"black\" points=\"1023,-292.5 1023,-328.5 \"/>\n<text text-anchor=\"middle\" x=\"1066\" y=\"-306.8\" font-family=\"Times,serif\" font-size=\"14.00\">grad: 0.8556</text>\n</g>\n<!-- 140473372996112&#45;&gt;140473353616080 -->\n<g id=\"edge10\" class=\"edge\">\n<title>140473372996112&#45;&gt;140473353616080</title>\n<path fill=\"none\" stroke=\"black\" d=\"M885.99,-292.49C840.56,-282.06 782.26,-268.66 735.1,-257.82\"/>\n<polygon fill=\"black\" stroke=\"black\" points=\"735.74,-254.38 725.21,-255.55 734.17,-261.2 735.74,-254.38\"/>\n</g>\n<!-- 140473353873936 -->\n<g id=\"node12\" class=\"node\">\n<title>140473353873936</title>\n<polygon fill=\"lightblue\" stroke=\"black\" points=\"829,-365.5 829,-401.5 1053,-401.5 1053,-365.5 829,-365.5\"/>\n<text text-anchor=\"middle\" x=\"864.5\" y=\"-379.8\" font-family=\"Times,serif\" font-size=\"14.00\">data: 0.20</text>\n<polyline fill=\"none\" stroke=\"black\" points=\"900,-365.5 900,-401.5 \"/>\n<text text-anchor=\"middle\" x=\"933.5\" y=\"-379.8\" font-family=\"Times,serif\" font-size=\"14.00\">label: w2</text>\n<polyline fill=\"none\" stroke=\"black\" points=\"967,-365.5 967,-401.5 \"/>\n<text text-anchor=\"middle\" x=\"1010\" y=\"-379.8\" font-family=\"Times,serif\" font-size=\"14.00\">grad: 2.5669</text>\n</g>\n<!-- 140473353873936&#45;&gt;140473372996112 -->\n<g id=\"edge11\" class=\"edge\">\n<title>140473353873936&#45;&gt;140473372996112</title>\n<path fill=\"none\" stroke=\"black\" d=\"M945.6,-365.31C947.77,-357.2 950.41,-347.34 952.83,-338.28\"/>\n<polygon fill=\"black\" stroke=\"black\" points=\"956.24,-339.09 955.44,-328.53 949.48,-337.28 956.24,-339.09\"/>\n</g>\n<!-- 140473353721552 -->\n<g id=\"node13\" class=\"node\">\n<title>140473353721552</title>\n<polygon fill=\"lightblue\" stroke=\"black\" points=\"1071.5,-365.5 1071.5,-401.5 1292.5,-401.5 1292.5,-365.5 1071.5,-365.5\"/>\n<text text-anchor=\"middle\" x=\"1107\" y=\"-379.8\" font-family=\"Times,serif\" font-size=\"14.00\">data: 3.00</text>\n<polyline fill=\"none\" stroke=\"black\" points=\"1142.5,-365.5 1142.5,-401.5 \"/>\n<text text-anchor=\"middle\" x=\"1174.5\" y=\"-379.8\" font-family=\"Times,serif\" font-size=\"14.00\">label: x2</text>\n<polyline fill=\"none\" stroke=\"black\" points=\"1206.5,-365.5 1206.5,-401.5 \"/>\n<text text-anchor=\"middle\" x=\"1249.5\" y=\"-379.8\" font-family=\"Times,serif\" font-size=\"14.00\">grad: 0.1711</text>\n</g>\n<!-- 140473353721552&#45;&gt;140473372996112 -->\n<g id=\"edge12\" class=\"edge\">\n<title>140473353721552&#45;&gt;140473372996112</title>\n<path fill=\"none\" stroke=\"black\" d=\"M1128.83,-365.49C1097.07,-355.34 1056.55,-342.38 1023.17,-331.7\"/>\n<polygon fill=\"black\" stroke=\"black\" points=\"1024.1,-328.33 1013.51,-328.61 1021.97,-334.99 1024.1,-328.33\"/>\n</g>\n<!-- 140473353879120 -->\n<g id=\"node14\" class=\"node\">\n<title>140473353879120</title>\n<polygon fill=\"lightblue\" stroke=\"black\" points=\"654,-146.5 654,-182.5 872,-182.5 872,-146.5 654,-146.5\"/>\n<text text-anchor=\"middle\" x=\"691.5\" y=\"-160.8\" font-family=\"Times,serif\" font-size=\"14.00\">data: &#45;4.70</text>\n<polyline fill=\"none\" stroke=\"black\" points=\"729,-146.5 729,-182.5 \"/>\n<text text-anchor=\"middle\" x=\"757.5\" y=\"-160.8\" font-family=\"Times,serif\" font-size=\"14.00\">label: b</text>\n<polyline fill=\"none\" stroke=\"black\" points=\"786,-146.5 786,-182.5 \"/>\n<text text-anchor=\"middle\" x=\"829\" y=\"-160.8\" font-family=\"Times,serif\" font-size=\"14.00\">grad: 0.8556</text>\n</g>\n<!-- 140473353879120&#45;&gt;140473353841936 -->\n<g id=\"edge13\" class=\"edge\">\n<title>140473353879120&#45;&gt;140473353841936</title>\n<path fill=\"none\" stroke=\"black\" d=\"M731.14,-146.49C713.1,-136.86 690.33,-124.71 670.97,-114.37\"/>\n<polygon fill=\"black\" stroke=\"black\" points=\"672.53,-111.24 662.06,-109.61 669.23,-117.41 672.53,-111.24\"/>\n</g>\n</g>\n</svg>\n",
            "text/plain": [
              "<graphviz.graphs.Digraph at 0x7fc2805c3e10>"
            ]
          },
          "metadata": {}
        }
      ]
    },
    {
      "cell_type": "markdown",
      "source": [
        "# Topological Sorting using Depth-First Search (DFS)\n",
        "Topological sorting is a linear ordering of vertices in a directed acyclic graph (DAG), where for every directed edge U → V, node U appears before node V in the ordering. This is commonly used in task scheduling, dependency resolution, and compiler optimization.\n",
        "\n",
        "## Example Graph Representation\n",
        "\n",
        "We represent the computational graph as a dictionary where:\n",
        "- Keys represent nodes.\n",
        "- Values (lists) represent outgoing edges (dependencies).\n",
        "\n",
        "\n",
        "```\n",
        "graph = {\n",
        "    'A': ['C'],\n",
        "    'B': ['C', 'D'],\n",
        "    'C': ['E'],\n",
        "    'D': ['F'],\n",
        "    'E': ['H', 'F'],\n",
        "    'F': ['G'],\n",
        "    'G': [],\n",
        "    'H': []\n",
        "}\n",
        "```\n",
        "\n",
        "## Algorithm Steps:\n",
        "\n",
        "1. Initialize an empty set visited and an empty list stack.\n",
        "\n",
        "2. Perform DFS for each unvisited node.\n",
        "\n",
        "3. Recursively visit all neighbors before adding the current node to stack.\n",
        "\n",
        "4. Reverse the stack to get the correct topological order.\n",
        "\n",
        "```\n",
        "def topological_sort_dfs(graph):\n",
        "    visited = set()\n",
        "    stack = []\n",
        "\n",
        "    def dfs(node):\n",
        "        if node in visited:\n",
        "            return\n",
        "        visited.add(node)\n",
        "        for neighbor in graph[node]:\n",
        "            dfs(neighbor)\n",
        "        stack.append(node)  # Push after all neighbors are processed\n",
        "\n",
        "    for node in graph:\n",
        "        if node not in visited:\n",
        "            dfs(node)\n",
        "\n",
        "    return stack[::-1]  # Reverse stack for correct order\n",
        "\n",
        "print(\"Topological Order (DFS):\", topological_sort_dfs(graph))\n",
        "```\n",
        "\n",
        "## Output\n",
        "\n",
        "\n",
        "```\n",
        "Topological Order (DFS): ['B', 'D', 'A', 'C', 'E', 'F', 'G', 'H']\n",
        "```\n",
        "\n"
      ],
      "metadata": {
        "id": "MSsgQpaAS1t4"
      }
    },
    {
      "cell_type": "code",
      "source": [
        "def topological_sort_dfs(graph):\n",
        "    visited = set()\n",
        "    stack = []\n",
        "\n",
        "    def dfs(node):\n",
        "        if node in visited:\n",
        "            return\n",
        "        visited.add(node)\n",
        "        for neighbor in graph[node]:\n",
        "            dfs(neighbor)\n",
        "        stack.append(node)  # Push after all neighbors are processed\n",
        "\n",
        "    for node in graph:\n",
        "        if node not in visited:\n",
        "            dfs(node)\n",
        "\n",
        "    return stack[::-1]  # Reverse stack for correct order\n",
        "\n",
        "\n",
        "computation_graph = {\n",
        "    'x1': ['x1w1'],\n",
        "    'w1': ['x1w1'],\n",
        "    'x2': ['x2w2'],\n",
        "    'w2': ['x2w2'],\n",
        "    'x3': ['x3w3'],\n",
        "    'w3': ['x3w3'],\n",
        "    'b': ['z'],\n",
        "    'x1w1': ['x'],\n",
        "    'x2w2': ['x'],\n",
        "    'x': ['y'],\n",
        "    'x3w3': ['y'],\n",
        "    'y': ['z'],\n",
        "    'z': ['a'],\n",
        "    'a': []\n",
        "}\n",
        "\n",
        "topo_order = topological_sort_dfs(computation_graph)\n",
        "topo_order"
      ],
      "metadata": {
        "colab": {
          "base_uri": "https://localhost:8080/"
        },
        "id": "wcMf1r8qzoy-",
        "outputId": "21f9f47a-5558-4e1a-b593-a32a0cc44680"
      },
      "execution_count": null,
      "outputs": [
        {
          "output_type": "execute_result",
          "data": {
            "text/plain": [
              "['b',\n",
              " 'w3',\n",
              " 'x3',\n",
              " 'x3w3',\n",
              " 'w2',\n",
              " 'x2',\n",
              " 'x2w2',\n",
              " 'w1',\n",
              " 'x1',\n",
              " 'x1w1',\n",
              " 'x',\n",
              " 'y',\n",
              " 'z',\n",
              " 'a']"
            ]
          },
          "metadata": {},
          "execution_count": 20
        }
      ]
    },
    {
      "cell_type": "markdown",
      "source": [
        "Setting grads to zero"
      ],
      "metadata": {
        "id": "ES-vgMUfUh8s"
      }
    },
    {
      "cell_type": "code",
      "source": [
        "z.grad = 0\n",
        "y.grad = 0\n",
        "b.grad = 0\n",
        "x.grad = 0\n",
        "x3w3.grad = 0\n",
        "x2w2.grad = 0\n",
        "x1w1.grad = 0\n",
        "w3.grad = 0\n",
        "w2.grad = 0\n",
        "w1.grad = 0\n",
        "x1.grad = 0\n",
        "x2.grad = 0\n",
        "x3.grad = 0"
      ],
      "metadata": {
        "id": "eMOHekr_12Li"
      },
      "execution_count": null,
      "outputs": []
    },
    {
      "cell_type": "code",
      "source": [
        "stack = []\n",
        "visited = set()\n",
        "\n",
        "def dfs(node):\n",
        "  if node  in visited:\n",
        "    return\n",
        "  visited.add(node)\n",
        "  for child in node._prev:\n",
        "    dfs(child)\n",
        "  stack.append(node)\n",
        "\n",
        "dfs(a)"
      ],
      "metadata": {
        "id": "CSpXF34xs0JM"
      },
      "execution_count": null,
      "outputs": []
    },
    {
      "cell_type": "code",
      "source": [
        "stack[::-1]"
      ],
      "metadata": {
        "colab": {
          "base_uri": "https://localhost:8080/"
        },
        "id": "20ePgVIozcI1",
        "outputId": "9e2ba0c1-d86f-4b1a-9871-847bb1d6da0d"
      },
      "execution_count": null,
      "outputs": [
        {
          "output_type": "execute_result",
          "data": {
            "text/plain": [
              "[Value(data=0.3799489622552244),\n",
              " Value(data=0.39999999999999947),\n",
              " Value(data=-4.7),\n",
              " Value(data=5.1),\n",
              " Value(data=1.6),\n",
              " Value(data=0.6000000000000001),\n",
              " Value(data=3),\n",
              " Value(data=0.2),\n",
              " Value(data=1.0),\n",
              " Value(data=2),\n",
              " Value(data=0.5),\n",
              " Value(data=3.5),\n",
              " Value(data=5),\n",
              " Value(data=0.7)]"
            ]
          },
          "metadata": {},
          "execution_count": 23
        }
      ]
    },
    {
      "cell_type": "markdown",
      "source": [
        "# METHOD 3\n",
        "## Calling the ._backward() method by looping throught the topological order of the computational graph."
      ],
      "metadata": {
        "id": "qbeB6AIP8XgB"
      }
    },
    {
      "cell_type": "code",
      "source": [
        "a.grad = 1\n",
        "for node in stack[::-1]:\n",
        "  node._backward()"
      ],
      "metadata": {
        "id": "HiluyX91zeZk"
      },
      "execution_count": null,
      "outputs": []
    },
    {
      "cell_type": "code",
      "source": [
        "dot = draw_computation_graph(a)\n",
        "display(dot)"
      ],
      "metadata": {
        "colab": {
          "base_uri": "https://localhost:8080/",
          "height": 588
        },
        "id": "MOKXGrf_0Et_",
        "outputId": "b9d9e3c3-c076-4304-8318-e64d3b4ceea0"
      },
      "execution_count": null,
      "outputs": [
        {
          "output_type": "display_data",
          "data": {
            "image/svg+xml": "<?xml version=\"1.0\" encoding=\"UTF-8\" standalone=\"no\"?>\n<!DOCTYPE svg PUBLIC \"-//W3C//DTD SVG 1.1//EN\"\n \"http://www.w3.org/Graphics/SVG/1.1/DTD/svg11.dtd\">\n<!-- Generated by graphviz version 2.43.0 (0)\n -->\n<!-- Title: %3 Pages: 1 -->\n<svg width=\"1301pt\" height=\"410pt\"\n viewBox=\"0.00 0.00 1300.50 410.00\" xmlns=\"http://www.w3.org/2000/svg\" xmlns:xlink=\"http://www.w3.org/1999/xlink\">\n<g id=\"graph0\" class=\"graph\" transform=\"scale(1 1) rotate(0) translate(4 406)\">\n<title>%3</title>\n<polygon fill=\"white\" stroke=\"transparent\" points=\"-4,4 -4,-406 1296.5,-406 1296.5,4 -4,4\"/>\n<!-- 140473353834768 -->\n<g id=\"node1\" class=\"node\">\n<title>140473353834768</title>\n<polygon fill=\"lightblue\" stroke=\"black\" points=\"485,-0.5 485,-36.5 775,-36.5 775,-0.5 485,-0.5\"/>\n<text text-anchor=\"middle\" x=\"520.5\" y=\"-14.8\" font-family=\"Times,serif\" font-size=\"14.00\">oper: tanh</text>\n<polyline fill=\"none\" stroke=\"black\" points=\"556,-0.5 556,-36.5 \"/>\n<text text-anchor=\"middle\" x=\"594.5\" y=\"-14.8\" font-family=\"Times,serif\" font-size=\"14.00\">value: 0.38</text>\n<polyline fill=\"none\" stroke=\"black\" points=\"633,-0.5 633,-36.5 \"/>\n<text text-anchor=\"middle\" x=\"661\" y=\"-14.8\" font-family=\"Times,serif\" font-size=\"14.00\">label: a</text>\n<polyline fill=\"none\" stroke=\"black\" points=\"689,-0.5 689,-36.5 \"/>\n<text text-anchor=\"middle\" x=\"732\" y=\"-14.8\" font-family=\"Times,serif\" font-size=\"14.00\">grad: 1.0000</text>\n</g>\n<!-- 140473353841936 -->\n<g id=\"node2\" class=\"node\">\n<title>140473353841936</title>\n<polygon fill=\"lightblue\" stroke=\"black\" points=\"492.5,-73.5 492.5,-109.5 767.5,-109.5 767.5,-73.5 492.5,-73.5\"/>\n<text text-anchor=\"middle\" x=\"520.5\" y=\"-87.8\" font-family=\"Times,serif\" font-size=\"14.00\">oper: +</text>\n<polyline fill=\"none\" stroke=\"black\" points=\"548.5,-73.5 548.5,-109.5 \"/>\n<text text-anchor=\"middle\" x=\"587\" y=\"-87.8\" font-family=\"Times,serif\" font-size=\"14.00\">value: 0.40</text>\n<polyline fill=\"none\" stroke=\"black\" points=\"625.5,-73.5 625.5,-109.5 \"/>\n<text text-anchor=\"middle\" x=\"653.5\" y=\"-87.8\" font-family=\"Times,serif\" font-size=\"14.00\">label: z</text>\n<polyline fill=\"none\" stroke=\"black\" points=\"681.5,-73.5 681.5,-109.5 \"/>\n<text text-anchor=\"middle\" x=\"724.5\" y=\"-87.8\" font-family=\"Times,serif\" font-size=\"14.00\">grad: 0.8556</text>\n</g>\n<!-- 140473353841936&#45;&gt;140473353834768 -->\n<g id=\"edge1\" class=\"edge\">\n<title>140473353841936&#45;&gt;140473353834768</title>\n<path fill=\"none\" stroke=\"black\" d=\"M630,-73.31C630,-65.29 630,-55.55 630,-46.57\"/>\n<polygon fill=\"black\" stroke=\"black\" points=\"633.5,-46.53 630,-36.53 626.5,-46.53 633.5,-46.53\"/>\n</g>\n<!-- 140473353877520 -->\n<g id=\"node3\" class=\"node\">\n<title>140473353877520</title>\n<polygon fill=\"lightblue\" stroke=\"black\" points=\"360,-146.5 360,-182.5 636,-182.5 636,-146.5 360,-146.5\"/>\n<text text-anchor=\"middle\" x=\"388\" y=\"-160.8\" font-family=\"Times,serif\" font-size=\"14.00\">oper: +</text>\n<polyline fill=\"none\" stroke=\"black\" points=\"416,-146.5 416,-182.5 \"/>\n<text text-anchor=\"middle\" x=\"454.5\" y=\"-160.8\" font-family=\"Times,serif\" font-size=\"14.00\">value: 5.10</text>\n<polyline fill=\"none\" stroke=\"black\" points=\"493,-146.5 493,-182.5 \"/>\n<text text-anchor=\"middle\" x=\"521.5\" y=\"-160.8\" font-family=\"Times,serif\" font-size=\"14.00\">label: y</text>\n<polyline fill=\"none\" stroke=\"black\" points=\"550,-146.5 550,-182.5 \"/>\n<text text-anchor=\"middle\" x=\"593\" y=\"-160.8\" font-family=\"Times,serif\" font-size=\"14.00\">grad: 0.8556</text>\n</g>\n<!-- 140473353877520&#45;&gt;140473353841936 -->\n<g id=\"edge2\" class=\"edge\">\n<title>140473353877520&#45;&gt;140473353841936</title>\n<path fill=\"none\" stroke=\"black\" d=\"M529.62,-146.49C547.53,-136.86 570.12,-124.71 589.34,-114.37\"/>\n<polygon fill=\"black\" stroke=\"black\" points=\"591.03,-117.43 598.18,-109.61 587.72,-111.27 591.03,-117.43\"/>\n</g>\n<!-- 140473353602320 -->\n<g id=\"node4\" class=\"node\">\n<title>140473353602320</title>\n<polygon fill=\"lightblue\" stroke=\"black\" points=\"197,-219.5 197,-255.5 495,-255.5 495,-219.5 197,-219.5\"/>\n<text text-anchor=\"middle\" x=\"224.5\" y=\"-233.8\" font-family=\"Times,serif\" font-size=\"14.00\">oper: *</text>\n<polyline fill=\"none\" stroke=\"black\" points=\"252,-219.5 252,-255.5 \"/>\n<text text-anchor=\"middle\" x=\"290.5\" y=\"-233.8\" font-family=\"Times,serif\" font-size=\"14.00\">value: 3.50</text>\n<polyline fill=\"none\" stroke=\"black\" points=\"329,-219.5 329,-255.5 \"/>\n<text text-anchor=\"middle\" x=\"369\" y=\"-233.8\" font-family=\"Times,serif\" font-size=\"14.00\">label: x3w3</text>\n<polyline fill=\"none\" stroke=\"black\" points=\"409,-219.5 409,-255.5 \"/>\n<text text-anchor=\"middle\" x=\"452\" y=\"-233.8\" font-family=\"Times,serif\" font-size=\"14.00\">grad: 0.8556</text>\n</g>\n<!-- 140473353602320&#45;&gt;140473353877520 -->\n<g id=\"edge3\" class=\"edge\">\n<title>140473353602320&#45;&gt;140473353877520</title>\n<path fill=\"none\" stroke=\"black\" d=\"M382.41,-219.49C403.31,-209.73 429.76,-197.38 452.08,-186.95\"/>\n<polygon fill=\"black\" stroke=\"black\" points=\"453.78,-190.02 461.36,-182.61 450.82,-183.67 453.78,-190.02\"/>\n</g>\n<!-- 140473353871184 -->\n<g id=\"node5\" class=\"node\">\n<title>140473353871184</title>\n<polygon fill=\"lightblue\" stroke=\"black\" points=\"0,-292.5 0,-328.5 224,-328.5 224,-292.5 0,-292.5\"/>\n<text text-anchor=\"middle\" x=\"35.5\" y=\"-306.8\" font-family=\"Times,serif\" font-size=\"14.00\">data: 0.70</text>\n<polyline fill=\"none\" stroke=\"black\" points=\"71,-292.5 71,-328.5 \"/>\n<text text-anchor=\"middle\" x=\"104.5\" y=\"-306.8\" font-family=\"Times,serif\" font-size=\"14.00\">label: w3</text>\n<polyline fill=\"none\" stroke=\"black\" points=\"138,-292.5 138,-328.5 \"/>\n<text text-anchor=\"middle\" x=\"181\" y=\"-306.8\" font-family=\"Times,serif\" font-size=\"14.00\">grad: 4.2782</text>\n</g>\n<!-- 140473353871184&#45;&gt;140473353602320 -->\n<g id=\"edge4\" class=\"edge\">\n<title>140473353871184&#45;&gt;140473353602320</title>\n<path fill=\"none\" stroke=\"black\" d=\"M168.05,-292.49C201.67,-282.29 244.59,-269.27 279.87,-258.57\"/>\n<polygon fill=\"black\" stroke=\"black\" points=\"281.04,-261.87 289.6,-255.61 279.01,-255.17 281.04,-261.87\"/>\n</g>\n<!-- 140473353871056 -->\n<g id=\"node6\" class=\"node\">\n<title>140473353871056</title>\n<polygon fill=\"lightblue\" stroke=\"black\" points=\"242.5,-292.5 242.5,-328.5 463.5,-328.5 463.5,-292.5 242.5,-292.5\"/>\n<text text-anchor=\"middle\" x=\"278\" y=\"-306.8\" font-family=\"Times,serif\" font-size=\"14.00\">data: 5.00</text>\n<polyline fill=\"none\" stroke=\"black\" points=\"313.5,-292.5 313.5,-328.5 \"/>\n<text text-anchor=\"middle\" x=\"345.5\" y=\"-306.8\" font-family=\"Times,serif\" font-size=\"14.00\">label: x3</text>\n<polyline fill=\"none\" stroke=\"black\" points=\"377.5,-292.5 377.5,-328.5 \"/>\n<text text-anchor=\"middle\" x=\"420.5\" y=\"-306.8\" font-family=\"Times,serif\" font-size=\"14.00\">grad: 0.5989</text>\n</g>\n<!-- 140473353871056&#45;&gt;140473353602320 -->\n<g id=\"edge5\" class=\"edge\">\n<title>140473353871056&#45;&gt;140473353602320</title>\n<path fill=\"none\" stroke=\"black\" d=\"M351.31,-292.31C350.51,-284.29 349.55,-274.55 348.67,-265.57\"/>\n<polygon fill=\"black\" stroke=\"black\" points=\"352.14,-265.14 347.68,-255.53 345.18,-265.82 352.14,-265.14\"/>\n</g>\n<!-- 140473353616080 -->\n<g id=\"node7\" class=\"node\">\n<title>140473353616080</title>\n<polygon fill=\"lightblue\" stroke=\"black\" points=\"513,-219.5 513,-255.5 789,-255.5 789,-219.5 513,-219.5\"/>\n<text text-anchor=\"middle\" x=\"541\" y=\"-233.8\" font-family=\"Times,serif\" font-size=\"14.00\">oper: +</text>\n<polyline fill=\"none\" stroke=\"black\" points=\"569,-219.5 569,-255.5 \"/>\n<text text-anchor=\"middle\" x=\"607.5\" y=\"-233.8\" font-family=\"Times,serif\" font-size=\"14.00\">value: 1.60</text>\n<polyline fill=\"none\" stroke=\"black\" points=\"646,-219.5 646,-255.5 \"/>\n<text text-anchor=\"middle\" x=\"674.5\" y=\"-233.8\" font-family=\"Times,serif\" font-size=\"14.00\">label: x</text>\n<polyline fill=\"none\" stroke=\"black\" points=\"703,-219.5 703,-255.5 \"/>\n<text text-anchor=\"middle\" x=\"746\" y=\"-233.8\" font-family=\"Times,serif\" font-size=\"14.00\">grad: 0.8556</text>\n</g>\n<!-- 140473353616080&#45;&gt;140473353877520 -->\n<g id=\"edge6\" class=\"edge\">\n<title>140473353616080&#45;&gt;140473353877520</title>\n<path fill=\"none\" stroke=\"black\" d=\"M614.35,-219.49C593.31,-209.73 566.69,-197.38 544.22,-186.95\"/>\n<polygon fill=\"black\" stroke=\"black\" points=\"545.42,-183.65 534.88,-182.61 542.48,-190 545.42,-183.65\"/>\n</g>\n<!-- 140473363451664 -->\n<g id=\"node8\" class=\"node\">\n<title>140473363451664</title>\n<polygon fill=\"lightblue\" stroke=\"black\" points=\"495,-292.5 495,-328.5 793,-328.5 793,-292.5 495,-292.5\"/>\n<text text-anchor=\"middle\" x=\"522.5\" y=\"-306.8\" font-family=\"Times,serif\" font-size=\"14.00\">oper: *</text>\n<polyline fill=\"none\" stroke=\"black\" points=\"550,-292.5 550,-328.5 \"/>\n<text text-anchor=\"middle\" x=\"588.5\" y=\"-306.8\" font-family=\"Times,serif\" font-size=\"14.00\">value: 1.00</text>\n<polyline fill=\"none\" stroke=\"black\" points=\"627,-292.5 627,-328.5 \"/>\n<text text-anchor=\"middle\" x=\"667\" y=\"-306.8\" font-family=\"Times,serif\" font-size=\"14.00\">label: x1w1</text>\n<polyline fill=\"none\" stroke=\"black\" points=\"707,-292.5 707,-328.5 \"/>\n<text text-anchor=\"middle\" x=\"750\" y=\"-306.8\" font-family=\"Times,serif\" font-size=\"14.00\">grad: 0.8556</text>\n</g>\n<!-- 140473363451664&#45;&gt;140473353616080 -->\n<g id=\"edge7\" class=\"edge\">\n<title>140473363451664&#45;&gt;140473353616080</title>\n<path fill=\"none\" stroke=\"black\" d=\"M645.69,-292.31C646.49,-284.29 647.45,-274.55 648.33,-265.57\"/>\n<polygon fill=\"black\" stroke=\"black\" points=\"651.82,-265.82 649.32,-255.53 644.86,-265.14 651.82,-265.82\"/>\n</g>\n<!-- 140473353876560 -->\n<g id=\"node9\" class=\"node\">\n<title>140473353876560</title>\n<polygon fill=\"lightblue\" stroke=\"black\" points=\"310,-365.5 310,-401.5 534,-401.5 534,-365.5 310,-365.5\"/>\n<text text-anchor=\"middle\" x=\"345.5\" y=\"-379.8\" font-family=\"Times,serif\" font-size=\"14.00\">data: 0.50</text>\n<polyline fill=\"none\" stroke=\"black\" points=\"381,-365.5 381,-401.5 \"/>\n<text text-anchor=\"middle\" x=\"414.5\" y=\"-379.8\" font-family=\"Times,serif\" font-size=\"14.00\">label: w1</text>\n<polyline fill=\"none\" stroke=\"black\" points=\"448,-365.5 448,-401.5 \"/>\n<text text-anchor=\"middle\" x=\"491\" y=\"-379.8\" font-family=\"Times,serif\" font-size=\"14.00\">grad: 1.7113</text>\n</g>\n<!-- 140473353876560&#45;&gt;140473363451664 -->\n<g id=\"edge8\" class=\"edge\">\n<title>140473353876560&#45;&gt;140473363451664</title>\n<path fill=\"none\" stroke=\"black\" d=\"M475.17,-365.49C506.93,-355.34 547.45,-342.38 580.83,-331.7\"/>\n<polygon fill=\"black\" stroke=\"black\" points=\"582.03,-334.99 590.49,-328.61 579.9,-328.33 582.03,-334.99\"/>\n</g>\n<!-- 140473353644240 -->\n<g id=\"node10\" class=\"node\">\n<title>140473353644240</title>\n<polygon fill=\"lightblue\" stroke=\"black\" points=\"552.5,-365.5 552.5,-401.5 773.5,-401.5 773.5,-365.5 552.5,-365.5\"/>\n<text text-anchor=\"middle\" x=\"588\" y=\"-379.8\" font-family=\"Times,serif\" font-size=\"14.00\">data: 2.00</text>\n<polyline fill=\"none\" stroke=\"black\" points=\"623.5,-365.5 623.5,-401.5 \"/>\n<text text-anchor=\"middle\" x=\"655.5\" y=\"-379.8\" font-family=\"Times,serif\" font-size=\"14.00\">label: x1</text>\n<polyline fill=\"none\" stroke=\"black\" points=\"687.5,-365.5 687.5,-401.5 \"/>\n<text text-anchor=\"middle\" x=\"730.5\" y=\"-379.8\" font-family=\"Times,serif\" font-size=\"14.00\">grad: 0.4278</text>\n</g>\n<!-- 140473353644240&#45;&gt;140473363451664 -->\n<g id=\"edge9\" class=\"edge\">\n<title>140473353644240&#45;&gt;140473363451664</title>\n<path fill=\"none\" stroke=\"black\" d=\"M658.4,-365.31C656.23,-357.2 653.59,-347.34 651.17,-338.28\"/>\n<polygon fill=\"black\" stroke=\"black\" points=\"654.52,-337.28 648.56,-328.53 647.76,-339.09 654.52,-337.28\"/>\n</g>\n<!-- 140473372996112 -->\n<g id=\"node11\" class=\"node\">\n<title>140473372996112</title>\n<polygon fill=\"lightblue\" stroke=\"black\" points=\"811,-292.5 811,-328.5 1109,-328.5 1109,-292.5 811,-292.5\"/>\n<text text-anchor=\"middle\" x=\"838.5\" y=\"-306.8\" font-family=\"Times,serif\" font-size=\"14.00\">oper: *</text>\n<polyline fill=\"none\" stroke=\"black\" points=\"866,-292.5 866,-328.5 \"/>\n<text text-anchor=\"middle\" x=\"904.5\" y=\"-306.8\" font-family=\"Times,serif\" font-size=\"14.00\">value: 0.60</text>\n<polyline fill=\"none\" stroke=\"black\" points=\"943,-292.5 943,-328.5 \"/>\n<text text-anchor=\"middle\" x=\"983\" y=\"-306.8\" font-family=\"Times,serif\" font-size=\"14.00\">label: x2w2</text>\n<polyline fill=\"none\" stroke=\"black\" points=\"1023,-292.5 1023,-328.5 \"/>\n<text text-anchor=\"middle\" x=\"1066\" y=\"-306.8\" font-family=\"Times,serif\" font-size=\"14.00\">grad: 0.8556</text>\n</g>\n<!-- 140473372996112&#45;&gt;140473353616080 -->\n<g id=\"edge10\" class=\"edge\">\n<title>140473372996112&#45;&gt;140473353616080</title>\n<path fill=\"none\" stroke=\"black\" d=\"M885.99,-292.49C840.56,-282.06 782.26,-268.66 735.1,-257.82\"/>\n<polygon fill=\"black\" stroke=\"black\" points=\"735.74,-254.38 725.21,-255.55 734.17,-261.2 735.74,-254.38\"/>\n</g>\n<!-- 140473353873936 -->\n<g id=\"node12\" class=\"node\">\n<title>140473353873936</title>\n<polygon fill=\"lightblue\" stroke=\"black\" points=\"829,-365.5 829,-401.5 1053,-401.5 1053,-365.5 829,-365.5\"/>\n<text text-anchor=\"middle\" x=\"864.5\" y=\"-379.8\" font-family=\"Times,serif\" font-size=\"14.00\">data: 0.20</text>\n<polyline fill=\"none\" stroke=\"black\" points=\"900,-365.5 900,-401.5 \"/>\n<text text-anchor=\"middle\" x=\"933.5\" y=\"-379.8\" font-family=\"Times,serif\" font-size=\"14.00\">label: w2</text>\n<polyline fill=\"none\" stroke=\"black\" points=\"967,-365.5 967,-401.5 \"/>\n<text text-anchor=\"middle\" x=\"1010\" y=\"-379.8\" font-family=\"Times,serif\" font-size=\"14.00\">grad: 2.5669</text>\n</g>\n<!-- 140473353873936&#45;&gt;140473372996112 -->\n<g id=\"edge11\" class=\"edge\">\n<title>140473353873936&#45;&gt;140473372996112</title>\n<path fill=\"none\" stroke=\"black\" d=\"M945.6,-365.31C947.77,-357.2 950.41,-347.34 952.83,-338.28\"/>\n<polygon fill=\"black\" stroke=\"black\" points=\"956.24,-339.09 955.44,-328.53 949.48,-337.28 956.24,-339.09\"/>\n</g>\n<!-- 140473353721552 -->\n<g id=\"node13\" class=\"node\">\n<title>140473353721552</title>\n<polygon fill=\"lightblue\" stroke=\"black\" points=\"1071.5,-365.5 1071.5,-401.5 1292.5,-401.5 1292.5,-365.5 1071.5,-365.5\"/>\n<text text-anchor=\"middle\" x=\"1107\" y=\"-379.8\" font-family=\"Times,serif\" font-size=\"14.00\">data: 3.00</text>\n<polyline fill=\"none\" stroke=\"black\" points=\"1142.5,-365.5 1142.5,-401.5 \"/>\n<text text-anchor=\"middle\" x=\"1174.5\" y=\"-379.8\" font-family=\"Times,serif\" font-size=\"14.00\">label: x2</text>\n<polyline fill=\"none\" stroke=\"black\" points=\"1206.5,-365.5 1206.5,-401.5 \"/>\n<text text-anchor=\"middle\" x=\"1249.5\" y=\"-379.8\" font-family=\"Times,serif\" font-size=\"14.00\">grad: 0.1711</text>\n</g>\n<!-- 140473353721552&#45;&gt;140473372996112 -->\n<g id=\"edge12\" class=\"edge\">\n<title>140473353721552&#45;&gt;140473372996112</title>\n<path fill=\"none\" stroke=\"black\" d=\"M1128.83,-365.49C1097.07,-355.34 1056.55,-342.38 1023.17,-331.7\"/>\n<polygon fill=\"black\" stroke=\"black\" points=\"1024.1,-328.33 1013.51,-328.61 1021.97,-334.99 1024.1,-328.33\"/>\n</g>\n<!-- 140473353879120 -->\n<g id=\"node14\" class=\"node\">\n<title>140473353879120</title>\n<polygon fill=\"lightblue\" stroke=\"black\" points=\"654,-146.5 654,-182.5 872,-182.5 872,-146.5 654,-146.5\"/>\n<text text-anchor=\"middle\" x=\"691.5\" y=\"-160.8\" font-family=\"Times,serif\" font-size=\"14.00\">data: &#45;4.70</text>\n<polyline fill=\"none\" stroke=\"black\" points=\"729,-146.5 729,-182.5 \"/>\n<text text-anchor=\"middle\" x=\"757.5\" y=\"-160.8\" font-family=\"Times,serif\" font-size=\"14.00\">label: b</text>\n<polyline fill=\"none\" stroke=\"black\" points=\"786,-146.5 786,-182.5 \"/>\n<text text-anchor=\"middle\" x=\"829\" y=\"-160.8\" font-family=\"Times,serif\" font-size=\"14.00\">grad: 0.8556</text>\n</g>\n<!-- 140473353879120&#45;&gt;140473353841936 -->\n<g id=\"edge13\" class=\"edge\">\n<title>140473353879120&#45;&gt;140473353841936</title>\n<path fill=\"none\" stroke=\"black\" d=\"M731.14,-146.49C713.1,-136.86 690.33,-124.71 670.97,-114.37\"/>\n<polygon fill=\"black\" stroke=\"black\" points=\"672.53,-111.24 662.06,-109.61 669.23,-117.41 672.53,-111.24\"/>\n</g>\n</g>\n</svg>\n",
            "text/plain": [
              "<graphviz.graphs.Digraph at 0x7fc280e677d0>"
            ]
          },
          "metadata": {}
        }
      ]
    },
    {
      "cell_type": "code",
      "source": [
        "a.grad = 1\n",
        "z.grad = 0\n",
        "y.grad = 0\n",
        "b.grad = 0\n",
        "x.grad = 0\n",
        "x3w3.grad = 0\n",
        "x2w2.grad = 0\n",
        "x1w1.grad = 0\n",
        "w3.grad = 0\n",
        "w2.grad = 0\n",
        "w1.grad = 0\n",
        "x1.grad = 0\n",
        "x2.grad = 0\n",
        "x3.grad = 0"
      ],
      "metadata": {
        "id": "NcGZkTivTUtI"
      },
      "execution_count": null,
      "outputs": []
    },
    {
      "cell_type": "markdown",
      "source": [
        "# METHOD 4\n",
        "## Implementing the topological sorting technique in the Value class then calling the .backward() on the last node."
      ],
      "metadata": {
        "id": "DgZhFGSz8ZoG"
      }
    },
    {
      "cell_type": "code",
      "source": [
        "a.backward()\n",
        "dot = draw_computation_graph(a)\n",
        "display(dot)"
      ],
      "metadata": {
        "colab": {
          "base_uri": "https://localhost:8080/",
          "height": 588
        },
        "id": "UelJFPiqU3Ts",
        "outputId": "eac03034-f11d-41f7-c439-c064dcc085a7"
      },
      "execution_count": null,
      "outputs": [
        {
          "output_type": "display_data",
          "data": {
            "image/svg+xml": "<?xml version=\"1.0\" encoding=\"UTF-8\" standalone=\"no\"?>\n<!DOCTYPE svg PUBLIC \"-//W3C//DTD SVG 1.1//EN\"\n \"http://www.w3.org/Graphics/SVG/1.1/DTD/svg11.dtd\">\n<!-- Generated by graphviz version 2.43.0 (0)\n -->\n<!-- Title: %3 Pages: 1 -->\n<svg width=\"1301pt\" height=\"410pt\"\n viewBox=\"0.00 0.00 1300.50 410.00\" xmlns=\"http://www.w3.org/2000/svg\" xmlns:xlink=\"http://www.w3.org/1999/xlink\">\n<g id=\"graph0\" class=\"graph\" transform=\"scale(1 1) rotate(0) translate(4 406)\">\n<title>%3</title>\n<polygon fill=\"white\" stroke=\"transparent\" points=\"-4,4 -4,-406 1296.5,-406 1296.5,4 -4,4\"/>\n<!-- 140473353834768 -->\n<g id=\"node1\" class=\"node\">\n<title>140473353834768</title>\n<polygon fill=\"lightblue\" stroke=\"black\" points=\"485,-0.5 485,-36.5 775,-36.5 775,-0.5 485,-0.5\"/>\n<text text-anchor=\"middle\" x=\"520.5\" y=\"-14.8\" font-family=\"Times,serif\" font-size=\"14.00\">oper: tanh</text>\n<polyline fill=\"none\" stroke=\"black\" points=\"556,-0.5 556,-36.5 \"/>\n<text text-anchor=\"middle\" x=\"594.5\" y=\"-14.8\" font-family=\"Times,serif\" font-size=\"14.00\">value: 0.38</text>\n<polyline fill=\"none\" stroke=\"black\" points=\"633,-0.5 633,-36.5 \"/>\n<text text-anchor=\"middle\" x=\"661\" y=\"-14.8\" font-family=\"Times,serif\" font-size=\"14.00\">label: a</text>\n<polyline fill=\"none\" stroke=\"black\" points=\"689,-0.5 689,-36.5 \"/>\n<text text-anchor=\"middle\" x=\"732\" y=\"-14.8\" font-family=\"Times,serif\" font-size=\"14.00\">grad: 1.0000</text>\n</g>\n<!-- 140473353841936 -->\n<g id=\"node2\" class=\"node\">\n<title>140473353841936</title>\n<polygon fill=\"lightblue\" stroke=\"black\" points=\"492.5,-73.5 492.5,-109.5 767.5,-109.5 767.5,-73.5 492.5,-73.5\"/>\n<text text-anchor=\"middle\" x=\"520.5\" y=\"-87.8\" font-family=\"Times,serif\" font-size=\"14.00\">oper: +</text>\n<polyline fill=\"none\" stroke=\"black\" points=\"548.5,-73.5 548.5,-109.5 \"/>\n<text text-anchor=\"middle\" x=\"587\" y=\"-87.8\" font-family=\"Times,serif\" font-size=\"14.00\">value: 0.40</text>\n<polyline fill=\"none\" stroke=\"black\" points=\"625.5,-73.5 625.5,-109.5 \"/>\n<text text-anchor=\"middle\" x=\"653.5\" y=\"-87.8\" font-family=\"Times,serif\" font-size=\"14.00\">label: z</text>\n<polyline fill=\"none\" stroke=\"black\" points=\"681.5,-73.5 681.5,-109.5 \"/>\n<text text-anchor=\"middle\" x=\"724.5\" y=\"-87.8\" font-family=\"Times,serif\" font-size=\"14.00\">grad: 0.8556</text>\n</g>\n<!-- 140473353841936&#45;&gt;140473353834768 -->\n<g id=\"edge1\" class=\"edge\">\n<title>140473353841936&#45;&gt;140473353834768</title>\n<path fill=\"none\" stroke=\"black\" d=\"M630,-73.31C630,-65.29 630,-55.55 630,-46.57\"/>\n<polygon fill=\"black\" stroke=\"black\" points=\"633.5,-46.53 630,-36.53 626.5,-46.53 633.5,-46.53\"/>\n</g>\n<!-- 140473353877520 -->\n<g id=\"node3\" class=\"node\">\n<title>140473353877520</title>\n<polygon fill=\"lightblue\" stroke=\"black\" points=\"360,-146.5 360,-182.5 636,-182.5 636,-146.5 360,-146.5\"/>\n<text text-anchor=\"middle\" x=\"388\" y=\"-160.8\" font-family=\"Times,serif\" font-size=\"14.00\">oper: +</text>\n<polyline fill=\"none\" stroke=\"black\" points=\"416,-146.5 416,-182.5 \"/>\n<text text-anchor=\"middle\" x=\"454.5\" y=\"-160.8\" font-family=\"Times,serif\" font-size=\"14.00\">value: 5.10</text>\n<polyline fill=\"none\" stroke=\"black\" points=\"493,-146.5 493,-182.5 \"/>\n<text text-anchor=\"middle\" x=\"521.5\" y=\"-160.8\" font-family=\"Times,serif\" font-size=\"14.00\">label: y</text>\n<polyline fill=\"none\" stroke=\"black\" points=\"550,-146.5 550,-182.5 \"/>\n<text text-anchor=\"middle\" x=\"593\" y=\"-160.8\" font-family=\"Times,serif\" font-size=\"14.00\">grad: 0.8556</text>\n</g>\n<!-- 140473353877520&#45;&gt;140473353841936 -->\n<g id=\"edge2\" class=\"edge\">\n<title>140473353877520&#45;&gt;140473353841936</title>\n<path fill=\"none\" stroke=\"black\" d=\"M529.62,-146.49C547.53,-136.86 570.12,-124.71 589.34,-114.37\"/>\n<polygon fill=\"black\" stroke=\"black\" points=\"591.03,-117.43 598.18,-109.61 587.72,-111.27 591.03,-117.43\"/>\n</g>\n<!-- 140473353602320 -->\n<g id=\"node4\" class=\"node\">\n<title>140473353602320</title>\n<polygon fill=\"lightblue\" stroke=\"black\" points=\"197,-219.5 197,-255.5 495,-255.5 495,-219.5 197,-219.5\"/>\n<text text-anchor=\"middle\" x=\"224.5\" y=\"-233.8\" font-family=\"Times,serif\" font-size=\"14.00\">oper: *</text>\n<polyline fill=\"none\" stroke=\"black\" points=\"252,-219.5 252,-255.5 \"/>\n<text text-anchor=\"middle\" x=\"290.5\" y=\"-233.8\" font-family=\"Times,serif\" font-size=\"14.00\">value: 3.50</text>\n<polyline fill=\"none\" stroke=\"black\" points=\"329,-219.5 329,-255.5 \"/>\n<text text-anchor=\"middle\" x=\"369\" y=\"-233.8\" font-family=\"Times,serif\" font-size=\"14.00\">label: x3w3</text>\n<polyline fill=\"none\" stroke=\"black\" points=\"409,-219.5 409,-255.5 \"/>\n<text text-anchor=\"middle\" x=\"452\" y=\"-233.8\" font-family=\"Times,serif\" font-size=\"14.00\">grad: 0.8556</text>\n</g>\n<!-- 140473353602320&#45;&gt;140473353877520 -->\n<g id=\"edge3\" class=\"edge\">\n<title>140473353602320&#45;&gt;140473353877520</title>\n<path fill=\"none\" stroke=\"black\" d=\"M382.41,-219.49C403.31,-209.73 429.76,-197.38 452.08,-186.95\"/>\n<polygon fill=\"black\" stroke=\"black\" points=\"453.78,-190.02 461.36,-182.61 450.82,-183.67 453.78,-190.02\"/>\n</g>\n<!-- 140473353871184 -->\n<g id=\"node5\" class=\"node\">\n<title>140473353871184</title>\n<polygon fill=\"lightblue\" stroke=\"black\" points=\"0,-292.5 0,-328.5 224,-328.5 224,-292.5 0,-292.5\"/>\n<text text-anchor=\"middle\" x=\"35.5\" y=\"-306.8\" font-family=\"Times,serif\" font-size=\"14.00\">data: 0.70</text>\n<polyline fill=\"none\" stroke=\"black\" points=\"71,-292.5 71,-328.5 \"/>\n<text text-anchor=\"middle\" x=\"104.5\" y=\"-306.8\" font-family=\"Times,serif\" font-size=\"14.00\">label: w3</text>\n<polyline fill=\"none\" stroke=\"black\" points=\"138,-292.5 138,-328.5 \"/>\n<text text-anchor=\"middle\" x=\"181\" y=\"-306.8\" font-family=\"Times,serif\" font-size=\"14.00\">grad: 4.2782</text>\n</g>\n<!-- 140473353871184&#45;&gt;140473353602320 -->\n<g id=\"edge4\" class=\"edge\">\n<title>140473353871184&#45;&gt;140473353602320</title>\n<path fill=\"none\" stroke=\"black\" d=\"M168.05,-292.49C201.67,-282.29 244.59,-269.27 279.87,-258.57\"/>\n<polygon fill=\"black\" stroke=\"black\" points=\"281.04,-261.87 289.6,-255.61 279.01,-255.17 281.04,-261.87\"/>\n</g>\n<!-- 140473353871056 -->\n<g id=\"node6\" class=\"node\">\n<title>140473353871056</title>\n<polygon fill=\"lightblue\" stroke=\"black\" points=\"242.5,-292.5 242.5,-328.5 463.5,-328.5 463.5,-292.5 242.5,-292.5\"/>\n<text text-anchor=\"middle\" x=\"278\" y=\"-306.8\" font-family=\"Times,serif\" font-size=\"14.00\">data: 5.00</text>\n<polyline fill=\"none\" stroke=\"black\" points=\"313.5,-292.5 313.5,-328.5 \"/>\n<text text-anchor=\"middle\" x=\"345.5\" y=\"-306.8\" font-family=\"Times,serif\" font-size=\"14.00\">label: x3</text>\n<polyline fill=\"none\" stroke=\"black\" points=\"377.5,-292.5 377.5,-328.5 \"/>\n<text text-anchor=\"middle\" x=\"420.5\" y=\"-306.8\" font-family=\"Times,serif\" font-size=\"14.00\">grad: 0.5989</text>\n</g>\n<!-- 140473353871056&#45;&gt;140473353602320 -->\n<g id=\"edge5\" class=\"edge\">\n<title>140473353871056&#45;&gt;140473353602320</title>\n<path fill=\"none\" stroke=\"black\" d=\"M351.31,-292.31C350.51,-284.29 349.55,-274.55 348.67,-265.57\"/>\n<polygon fill=\"black\" stroke=\"black\" points=\"352.14,-265.14 347.68,-255.53 345.18,-265.82 352.14,-265.14\"/>\n</g>\n<!-- 140473353616080 -->\n<g id=\"node7\" class=\"node\">\n<title>140473353616080</title>\n<polygon fill=\"lightblue\" stroke=\"black\" points=\"513,-219.5 513,-255.5 789,-255.5 789,-219.5 513,-219.5\"/>\n<text text-anchor=\"middle\" x=\"541\" y=\"-233.8\" font-family=\"Times,serif\" font-size=\"14.00\">oper: +</text>\n<polyline fill=\"none\" stroke=\"black\" points=\"569,-219.5 569,-255.5 \"/>\n<text text-anchor=\"middle\" x=\"607.5\" y=\"-233.8\" font-family=\"Times,serif\" font-size=\"14.00\">value: 1.60</text>\n<polyline fill=\"none\" stroke=\"black\" points=\"646,-219.5 646,-255.5 \"/>\n<text text-anchor=\"middle\" x=\"674.5\" y=\"-233.8\" font-family=\"Times,serif\" font-size=\"14.00\">label: x</text>\n<polyline fill=\"none\" stroke=\"black\" points=\"703,-219.5 703,-255.5 \"/>\n<text text-anchor=\"middle\" x=\"746\" y=\"-233.8\" font-family=\"Times,serif\" font-size=\"14.00\">grad: 0.8556</text>\n</g>\n<!-- 140473353616080&#45;&gt;140473353877520 -->\n<g id=\"edge6\" class=\"edge\">\n<title>140473353616080&#45;&gt;140473353877520</title>\n<path fill=\"none\" stroke=\"black\" d=\"M614.35,-219.49C593.31,-209.73 566.69,-197.38 544.22,-186.95\"/>\n<polygon fill=\"black\" stroke=\"black\" points=\"545.42,-183.65 534.88,-182.61 542.48,-190 545.42,-183.65\"/>\n</g>\n<!-- 140473363451664 -->\n<g id=\"node8\" class=\"node\">\n<title>140473363451664</title>\n<polygon fill=\"lightblue\" stroke=\"black\" points=\"495,-292.5 495,-328.5 793,-328.5 793,-292.5 495,-292.5\"/>\n<text text-anchor=\"middle\" x=\"522.5\" y=\"-306.8\" font-family=\"Times,serif\" font-size=\"14.00\">oper: *</text>\n<polyline fill=\"none\" stroke=\"black\" points=\"550,-292.5 550,-328.5 \"/>\n<text text-anchor=\"middle\" x=\"588.5\" y=\"-306.8\" font-family=\"Times,serif\" font-size=\"14.00\">value: 1.00</text>\n<polyline fill=\"none\" stroke=\"black\" points=\"627,-292.5 627,-328.5 \"/>\n<text text-anchor=\"middle\" x=\"667\" y=\"-306.8\" font-family=\"Times,serif\" font-size=\"14.00\">label: x1w1</text>\n<polyline fill=\"none\" stroke=\"black\" points=\"707,-292.5 707,-328.5 \"/>\n<text text-anchor=\"middle\" x=\"750\" y=\"-306.8\" font-family=\"Times,serif\" font-size=\"14.00\">grad: 0.8556</text>\n</g>\n<!-- 140473363451664&#45;&gt;140473353616080 -->\n<g id=\"edge7\" class=\"edge\">\n<title>140473363451664&#45;&gt;140473353616080</title>\n<path fill=\"none\" stroke=\"black\" d=\"M645.69,-292.31C646.49,-284.29 647.45,-274.55 648.33,-265.57\"/>\n<polygon fill=\"black\" stroke=\"black\" points=\"651.82,-265.82 649.32,-255.53 644.86,-265.14 651.82,-265.82\"/>\n</g>\n<!-- 140473353876560 -->\n<g id=\"node9\" class=\"node\">\n<title>140473353876560</title>\n<polygon fill=\"lightblue\" stroke=\"black\" points=\"310,-365.5 310,-401.5 534,-401.5 534,-365.5 310,-365.5\"/>\n<text text-anchor=\"middle\" x=\"345.5\" y=\"-379.8\" font-family=\"Times,serif\" font-size=\"14.00\">data: 0.50</text>\n<polyline fill=\"none\" stroke=\"black\" points=\"381,-365.5 381,-401.5 \"/>\n<text text-anchor=\"middle\" x=\"414.5\" y=\"-379.8\" font-family=\"Times,serif\" font-size=\"14.00\">label: w1</text>\n<polyline fill=\"none\" stroke=\"black\" points=\"448,-365.5 448,-401.5 \"/>\n<text text-anchor=\"middle\" x=\"491\" y=\"-379.8\" font-family=\"Times,serif\" font-size=\"14.00\">grad: 1.7113</text>\n</g>\n<!-- 140473353876560&#45;&gt;140473363451664 -->\n<g id=\"edge8\" class=\"edge\">\n<title>140473353876560&#45;&gt;140473363451664</title>\n<path fill=\"none\" stroke=\"black\" d=\"M475.17,-365.49C506.93,-355.34 547.45,-342.38 580.83,-331.7\"/>\n<polygon fill=\"black\" stroke=\"black\" points=\"582.03,-334.99 590.49,-328.61 579.9,-328.33 582.03,-334.99\"/>\n</g>\n<!-- 140473353644240 -->\n<g id=\"node10\" class=\"node\">\n<title>140473353644240</title>\n<polygon fill=\"lightblue\" stroke=\"black\" points=\"552.5,-365.5 552.5,-401.5 773.5,-401.5 773.5,-365.5 552.5,-365.5\"/>\n<text text-anchor=\"middle\" x=\"588\" y=\"-379.8\" font-family=\"Times,serif\" font-size=\"14.00\">data: 2.00</text>\n<polyline fill=\"none\" stroke=\"black\" points=\"623.5,-365.5 623.5,-401.5 \"/>\n<text text-anchor=\"middle\" x=\"655.5\" y=\"-379.8\" font-family=\"Times,serif\" font-size=\"14.00\">label: x1</text>\n<polyline fill=\"none\" stroke=\"black\" points=\"687.5,-365.5 687.5,-401.5 \"/>\n<text text-anchor=\"middle\" x=\"730.5\" y=\"-379.8\" font-family=\"Times,serif\" font-size=\"14.00\">grad: 0.4278</text>\n</g>\n<!-- 140473353644240&#45;&gt;140473363451664 -->\n<g id=\"edge9\" class=\"edge\">\n<title>140473353644240&#45;&gt;140473363451664</title>\n<path fill=\"none\" stroke=\"black\" d=\"M658.4,-365.31C656.23,-357.2 653.59,-347.34 651.17,-338.28\"/>\n<polygon fill=\"black\" stroke=\"black\" points=\"654.52,-337.28 648.56,-328.53 647.76,-339.09 654.52,-337.28\"/>\n</g>\n<!-- 140473372996112 -->\n<g id=\"node11\" class=\"node\">\n<title>140473372996112</title>\n<polygon fill=\"lightblue\" stroke=\"black\" points=\"811,-292.5 811,-328.5 1109,-328.5 1109,-292.5 811,-292.5\"/>\n<text text-anchor=\"middle\" x=\"838.5\" y=\"-306.8\" font-family=\"Times,serif\" font-size=\"14.00\">oper: *</text>\n<polyline fill=\"none\" stroke=\"black\" points=\"866,-292.5 866,-328.5 \"/>\n<text text-anchor=\"middle\" x=\"904.5\" y=\"-306.8\" font-family=\"Times,serif\" font-size=\"14.00\">value: 0.60</text>\n<polyline fill=\"none\" stroke=\"black\" points=\"943,-292.5 943,-328.5 \"/>\n<text text-anchor=\"middle\" x=\"983\" y=\"-306.8\" font-family=\"Times,serif\" font-size=\"14.00\">label: x2w2</text>\n<polyline fill=\"none\" stroke=\"black\" points=\"1023,-292.5 1023,-328.5 \"/>\n<text text-anchor=\"middle\" x=\"1066\" y=\"-306.8\" font-family=\"Times,serif\" font-size=\"14.00\">grad: 0.8556</text>\n</g>\n<!-- 140473372996112&#45;&gt;140473353616080 -->\n<g id=\"edge10\" class=\"edge\">\n<title>140473372996112&#45;&gt;140473353616080</title>\n<path fill=\"none\" stroke=\"black\" d=\"M885.99,-292.49C840.56,-282.06 782.26,-268.66 735.1,-257.82\"/>\n<polygon fill=\"black\" stroke=\"black\" points=\"735.74,-254.38 725.21,-255.55 734.17,-261.2 735.74,-254.38\"/>\n</g>\n<!-- 140473353873936 -->\n<g id=\"node12\" class=\"node\">\n<title>140473353873936</title>\n<polygon fill=\"lightblue\" stroke=\"black\" points=\"829,-365.5 829,-401.5 1053,-401.5 1053,-365.5 829,-365.5\"/>\n<text text-anchor=\"middle\" x=\"864.5\" y=\"-379.8\" font-family=\"Times,serif\" font-size=\"14.00\">data: 0.20</text>\n<polyline fill=\"none\" stroke=\"black\" points=\"900,-365.5 900,-401.5 \"/>\n<text text-anchor=\"middle\" x=\"933.5\" y=\"-379.8\" font-family=\"Times,serif\" font-size=\"14.00\">label: w2</text>\n<polyline fill=\"none\" stroke=\"black\" points=\"967,-365.5 967,-401.5 \"/>\n<text text-anchor=\"middle\" x=\"1010\" y=\"-379.8\" font-family=\"Times,serif\" font-size=\"14.00\">grad: 2.5669</text>\n</g>\n<!-- 140473353873936&#45;&gt;140473372996112 -->\n<g id=\"edge11\" class=\"edge\">\n<title>140473353873936&#45;&gt;140473372996112</title>\n<path fill=\"none\" stroke=\"black\" d=\"M945.6,-365.31C947.77,-357.2 950.41,-347.34 952.83,-338.28\"/>\n<polygon fill=\"black\" stroke=\"black\" points=\"956.24,-339.09 955.44,-328.53 949.48,-337.28 956.24,-339.09\"/>\n</g>\n<!-- 140473353721552 -->\n<g id=\"node13\" class=\"node\">\n<title>140473353721552</title>\n<polygon fill=\"lightblue\" stroke=\"black\" points=\"1071.5,-365.5 1071.5,-401.5 1292.5,-401.5 1292.5,-365.5 1071.5,-365.5\"/>\n<text text-anchor=\"middle\" x=\"1107\" y=\"-379.8\" font-family=\"Times,serif\" font-size=\"14.00\">data: 3.00</text>\n<polyline fill=\"none\" stroke=\"black\" points=\"1142.5,-365.5 1142.5,-401.5 \"/>\n<text text-anchor=\"middle\" x=\"1174.5\" y=\"-379.8\" font-family=\"Times,serif\" font-size=\"14.00\">label: x2</text>\n<polyline fill=\"none\" stroke=\"black\" points=\"1206.5,-365.5 1206.5,-401.5 \"/>\n<text text-anchor=\"middle\" x=\"1249.5\" y=\"-379.8\" font-family=\"Times,serif\" font-size=\"14.00\">grad: 0.1711</text>\n</g>\n<!-- 140473353721552&#45;&gt;140473372996112 -->\n<g id=\"edge12\" class=\"edge\">\n<title>140473353721552&#45;&gt;140473372996112</title>\n<path fill=\"none\" stroke=\"black\" d=\"M1128.83,-365.49C1097.07,-355.34 1056.55,-342.38 1023.17,-331.7\"/>\n<polygon fill=\"black\" stroke=\"black\" points=\"1024.1,-328.33 1013.51,-328.61 1021.97,-334.99 1024.1,-328.33\"/>\n</g>\n<!-- 140473353879120 -->\n<g id=\"node14\" class=\"node\">\n<title>140473353879120</title>\n<polygon fill=\"lightblue\" stroke=\"black\" points=\"654,-146.5 654,-182.5 872,-182.5 872,-146.5 654,-146.5\"/>\n<text text-anchor=\"middle\" x=\"691.5\" y=\"-160.8\" font-family=\"Times,serif\" font-size=\"14.00\">data: &#45;4.70</text>\n<polyline fill=\"none\" stroke=\"black\" points=\"729,-146.5 729,-182.5 \"/>\n<text text-anchor=\"middle\" x=\"757.5\" y=\"-160.8\" font-family=\"Times,serif\" font-size=\"14.00\">label: b</text>\n<polyline fill=\"none\" stroke=\"black\" points=\"786,-146.5 786,-182.5 \"/>\n<text text-anchor=\"middle\" x=\"829\" y=\"-160.8\" font-family=\"Times,serif\" font-size=\"14.00\">grad: 0.8556</text>\n</g>\n<!-- 140473353879120&#45;&gt;140473353841936 -->\n<g id=\"edge13\" class=\"edge\">\n<title>140473353879120&#45;&gt;140473353841936</title>\n<path fill=\"none\" stroke=\"black\" d=\"M731.14,-146.49C713.1,-136.86 690.33,-124.71 670.97,-114.37\"/>\n<polygon fill=\"black\" stroke=\"black\" points=\"672.53,-111.24 662.06,-109.61 669.23,-117.41 672.53,-111.24\"/>\n</g>\n</g>\n</svg>\n",
            "text/plain": [
              "<graphviz.graphs.Digraph at 0x7fc2701166d0>"
            ]
          },
          "metadata": {}
        }
      ]
    }
  ]
}